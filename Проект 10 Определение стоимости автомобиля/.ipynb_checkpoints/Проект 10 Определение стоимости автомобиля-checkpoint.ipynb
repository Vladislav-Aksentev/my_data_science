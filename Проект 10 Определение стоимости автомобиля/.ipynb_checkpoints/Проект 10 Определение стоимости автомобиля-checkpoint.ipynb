{
 "cells": [
  {
   "cell_type": "markdown",
   "metadata": {},
   "source": [
    "# Определение стоимости автомобиля."
   ]
  },
  {
   "cell_type": "markdown",
   "metadata": {},
   "source": [
    "# План работ:\n",
    "\n",
    "- 1. [Подготовка данных.](#1_Подготовка_данных.)\n",
    "- 2. [Обучение моделей.](#2_Обучение_моделей.)\n",
    "- 3. [Анализ моделей.](#3_Анализ_моделей.)"
   ]
  },
  {
   "cell_type": "markdown",
   "metadata": {},
   "source": [
    "# Описание данных:\n",
    "\n",
    "Признаки:  \n",
    "\n",
    "- DateCrawled — дата скачивания анкеты из базы.\n",
    "- VehicleType — тип автомобильного кузова.\n",
    "- RegistrationYear — год регистрации автомобиля.\n",
    "- Gearbox — тип коробки передач.\n",
    "- Power — мощность (л. с.).\n",
    "- Model — модель автомобиля.\n",
    "- Kilometer — пробег (км).\n",
    "- RegistrationMonth — месяц регистрации автомобиля.\n",
    "- FuelType — тип топлива.\n",
    "- Brand — марка автомобиля.\n",
    "- NotRepaired — была машина в ремонте или нет.\n",
    "- DateCreated — дата создания анкеты.\n",
    "- NumberOfPictures — количество фотографий автомобиля.\n",
    "- PostalCode — почтовый индекс владельца анкеты (пользователя).\n",
    "- LastSeen — дата последней активности пользователя.  \n",
    "\n",
    "Целевой признак:  \n",
    "\n",
    "- Price — цена (евро)."
   ]
  },
  {
   "cell_type": "markdown",
   "metadata": {},
   "source": [
    "Сервис по продаже автомобилей с пробегом «Не бит, не крашен» разрабатывает приложение для привлечения новых клиентов. В нём можно быстро узнать рыночную стоимость своего автомобиля. В вашем распоряжении исторические данные: технические характеристики, комплектации и цены автомобилей. Вам нужно построить модель для определения стоимости. \n",
    "\n",
    "Заказчику важны:\n",
    "\n",
    "- качество предсказания;\n",
    "- скорость предсказания;\n",
    "- время обучения."
   ]
  },
  {
   "cell_type": "code",
   "execution_count": 1,
   "metadata": {},
   "outputs": [],
   "source": [
    "import pandas as pd\n",
    "\n",
    "import numpy as np\n",
    "\n",
    "from sklearn.model_selection import train_test_split\n",
    "from sklearn.metrics import mean_squared_error\n",
    "from sklearn.preprocessing import OneHotEncoder\n",
    "from sklearn.preprocessing import OrdinalEncoder\n",
    "from sklearn.preprocessing import StandardScaler\n",
    "from sklearn.linear_model import LinearRegression\n",
    "from sklearn.metrics import make_scorer\n",
    "from sklearn.model_selection import GridSearchCV\n",
    "\n",
    "from lightgbm import LGBMRegressor\n",
    "\n",
    "import xgboost as xgb\n",
    "\n",
    "from catboost import CatBoostRegressor, Pool, cv"
   ]
  },
  {
   "cell_type": "markdown",
   "metadata": {},
   "source": [
    "# 1. Подготовка данных.<a id=\"1_Подготовка_данных.\"></a>"
   ]
  },
  {
   "cell_type": "markdown",
   "metadata": {},
   "source": [
    "Загрузим и посмотрим на данные:"
   ]
  },
  {
   "cell_type": "code",
   "execution_count": 2,
   "metadata": {},
   "outputs": [],
   "source": [
    "cars = pd.read_csv('/datasets/autos.csv')"
   ]
  },
  {
   "cell_type": "code",
   "execution_count": 3,
   "metadata": {
    "scrolled": true
   },
   "outputs": [
    {
     "name": "stdout",
     "output_type": "stream",
     "text": [
      "<class 'pandas.core.frame.DataFrame'>\n",
      "RangeIndex: 354369 entries, 0 to 354368\n",
      "Data columns (total 16 columns):\n",
      "DateCrawled          354369 non-null object\n",
      "Price                354369 non-null int64\n",
      "VehicleType          316879 non-null object\n",
      "RegistrationYear     354369 non-null int64\n",
      "Gearbox              334536 non-null object\n",
      "Power                354369 non-null int64\n",
      "Model                334664 non-null object\n",
      "Kilometer            354369 non-null int64\n",
      "RegistrationMonth    354369 non-null int64\n",
      "FuelType             321474 non-null object\n",
      "Brand                354369 non-null object\n",
      "NotRepaired          283215 non-null object\n",
      "DateCreated          354369 non-null object\n",
      "NumberOfPictures     354369 non-null int64\n",
      "PostalCode           354369 non-null int64\n",
      "LastSeen             354369 non-null object\n",
      "dtypes: int64(7), object(9)\n",
      "memory usage: 43.3+ MB\n"
     ]
    }
   ],
   "source": [
    "cars.info()"
   ]
  },
  {
   "cell_type": "code",
   "execution_count": 4,
   "metadata": {},
   "outputs": [
    {
     "data": {
      "text/plain": [
       "array(['manual', 'auto', nan], dtype=object)"
      ]
     },
     "execution_count": 4,
     "metadata": {},
     "output_type": "execute_result"
    }
   ],
   "source": [
    "cars['Gearbox'].unique()"
   ]
  },
  {
   "cell_type": "markdown",
   "metadata": {},
   "source": [
    "Видны пропуски."
   ]
  },
  {
   "cell_type": "code",
   "execution_count": 5,
   "metadata": {
    "scrolled": true
   },
   "outputs": [
    {
     "data": {
      "text/html": [
       "<div>\n",
       "<style scoped>\n",
       "    .dataframe tbody tr th:only-of-type {\n",
       "        vertical-align: middle;\n",
       "    }\n",
       "\n",
       "    .dataframe tbody tr th {\n",
       "        vertical-align: top;\n",
       "    }\n",
       "\n",
       "    .dataframe thead th {\n",
       "        text-align: right;\n",
       "    }\n",
       "</style>\n",
       "<table border=\"1\" class=\"dataframe\">\n",
       "  <thead>\n",
       "    <tr style=\"text-align: right;\">\n",
       "      <th></th>\n",
       "      <th>DateCrawled</th>\n",
       "      <th>Price</th>\n",
       "      <th>VehicleType</th>\n",
       "      <th>RegistrationYear</th>\n",
       "      <th>Gearbox</th>\n",
       "      <th>Power</th>\n",
       "      <th>Model</th>\n",
       "      <th>Kilometer</th>\n",
       "      <th>RegistrationMonth</th>\n",
       "      <th>FuelType</th>\n",
       "      <th>Brand</th>\n",
       "      <th>NotRepaired</th>\n",
       "      <th>DateCreated</th>\n",
       "      <th>NumberOfPictures</th>\n",
       "      <th>PostalCode</th>\n",
       "      <th>LastSeen</th>\n",
       "    </tr>\n",
       "  </thead>\n",
       "  <tbody>\n",
       "    <tr>\n",
       "      <td>354364</td>\n",
       "      <td>2016-03-21 09:50:58</td>\n",
       "      <td>0</td>\n",
       "      <td>NaN</td>\n",
       "      <td>2005</td>\n",
       "      <td>manual</td>\n",
       "      <td>0</td>\n",
       "      <td>colt</td>\n",
       "      <td>150000</td>\n",
       "      <td>7</td>\n",
       "      <td>petrol</td>\n",
       "      <td>mitsubishi</td>\n",
       "      <td>yes</td>\n",
       "      <td>2016-03-21 00:00:00</td>\n",
       "      <td>0</td>\n",
       "      <td>2694</td>\n",
       "      <td>2016-03-21 10:42:49</td>\n",
       "    </tr>\n",
       "    <tr>\n",
       "      <td>354365</td>\n",
       "      <td>2016-03-14 17:48:27</td>\n",
       "      <td>2200</td>\n",
       "      <td>NaN</td>\n",
       "      <td>2005</td>\n",
       "      <td>NaN</td>\n",
       "      <td>0</td>\n",
       "      <td>NaN</td>\n",
       "      <td>20000</td>\n",
       "      <td>1</td>\n",
       "      <td>NaN</td>\n",
       "      <td>sonstige_autos</td>\n",
       "      <td>NaN</td>\n",
       "      <td>2016-03-14 00:00:00</td>\n",
       "      <td>0</td>\n",
       "      <td>39576</td>\n",
       "      <td>2016-04-06 00:46:52</td>\n",
       "    </tr>\n",
       "    <tr>\n",
       "      <td>354366</td>\n",
       "      <td>2016-03-05 19:56:21</td>\n",
       "      <td>1199</td>\n",
       "      <td>convertible</td>\n",
       "      <td>2000</td>\n",
       "      <td>auto</td>\n",
       "      <td>101</td>\n",
       "      <td>fortwo</td>\n",
       "      <td>125000</td>\n",
       "      <td>3</td>\n",
       "      <td>petrol</td>\n",
       "      <td>smart</td>\n",
       "      <td>no</td>\n",
       "      <td>2016-03-05 00:00:00</td>\n",
       "      <td>0</td>\n",
       "      <td>26135</td>\n",
       "      <td>2016-03-11 18:17:12</td>\n",
       "    </tr>\n",
       "    <tr>\n",
       "      <td>354367</td>\n",
       "      <td>2016-03-19 18:57:12</td>\n",
       "      <td>9200</td>\n",
       "      <td>bus</td>\n",
       "      <td>1996</td>\n",
       "      <td>manual</td>\n",
       "      <td>102</td>\n",
       "      <td>transporter</td>\n",
       "      <td>150000</td>\n",
       "      <td>3</td>\n",
       "      <td>gasoline</td>\n",
       "      <td>volkswagen</td>\n",
       "      <td>no</td>\n",
       "      <td>2016-03-19 00:00:00</td>\n",
       "      <td>0</td>\n",
       "      <td>87439</td>\n",
       "      <td>2016-04-07 07:15:26</td>\n",
       "    </tr>\n",
       "    <tr>\n",
       "      <td>354368</td>\n",
       "      <td>2016-03-20 19:41:08</td>\n",
       "      <td>3400</td>\n",
       "      <td>wagon</td>\n",
       "      <td>2002</td>\n",
       "      <td>manual</td>\n",
       "      <td>100</td>\n",
       "      <td>golf</td>\n",
       "      <td>150000</td>\n",
       "      <td>6</td>\n",
       "      <td>gasoline</td>\n",
       "      <td>volkswagen</td>\n",
       "      <td>NaN</td>\n",
       "      <td>2016-03-20 00:00:00</td>\n",
       "      <td>0</td>\n",
       "      <td>40764</td>\n",
       "      <td>2016-03-24 12:45:21</td>\n",
       "    </tr>\n",
       "  </tbody>\n",
       "</table>\n",
       "</div>"
      ],
      "text/plain": [
       "                DateCrawled  Price  VehicleType  RegistrationYear Gearbox  \\\n",
       "354364  2016-03-21 09:50:58      0          NaN              2005  manual   \n",
       "354365  2016-03-14 17:48:27   2200          NaN              2005     NaN   \n",
       "354366  2016-03-05 19:56:21   1199  convertible              2000    auto   \n",
       "354367  2016-03-19 18:57:12   9200          bus              1996  manual   \n",
       "354368  2016-03-20 19:41:08   3400        wagon              2002  manual   \n",
       "\n",
       "        Power        Model  Kilometer  RegistrationMonth  FuelType  \\\n",
       "354364      0         colt     150000                  7    petrol   \n",
       "354365      0          NaN      20000                  1       NaN   \n",
       "354366    101       fortwo     125000                  3    petrol   \n",
       "354367    102  transporter     150000                  3  gasoline   \n",
       "354368    100         golf     150000                  6  gasoline   \n",
       "\n",
       "                 Brand NotRepaired          DateCreated  NumberOfPictures  \\\n",
       "354364      mitsubishi         yes  2016-03-21 00:00:00                 0   \n",
       "354365  sonstige_autos         NaN  2016-03-14 00:00:00                 0   \n",
       "354366           smart          no  2016-03-05 00:00:00                 0   \n",
       "354367      volkswagen          no  2016-03-19 00:00:00                 0   \n",
       "354368      volkswagen         NaN  2016-03-20 00:00:00                 0   \n",
       "\n",
       "        PostalCode             LastSeen  \n",
       "354364        2694  2016-03-21 10:42:49  \n",
       "354365       39576  2016-04-06 00:46:52  \n",
       "354366       26135  2016-03-11 18:17:12  \n",
       "354367       87439  2016-04-07 07:15:26  \n",
       "354368       40764  2016-03-24 12:45:21  "
      ]
     },
     "execution_count": 5,
     "metadata": {},
     "output_type": "execute_result"
    }
   ],
   "source": [
    "cars.head(5)\n",
    "cars.tail(5)"
   ]
  },
  {
   "cell_type": "markdown",
   "metadata": {},
   "source": [
    "Можно изменить тип данных даты на Datetime:"
   ]
  },
  {
   "cell_type": "code",
   "execution_count": 6,
   "metadata": {},
   "outputs": [],
   "source": [
    "list_oper = ['DateCrawled', 'DateCreated', 'LastSeen']\n",
    "for i in list_oper:\n",
    "    cars[i] = pd.to_datetime(cars[i], format='%Y-%m-%dT%H:%M:%S')"
   ]
  },
  {
   "cell_type": "markdown",
   "metadata": {},
   "source": [
    "Посмотрим на данные внимательнее:"
   ]
  },
  {
   "cell_type": "code",
   "execution_count": 7,
   "metadata": {
    "scrolled": true
   },
   "outputs": [
    {
     "data": {
      "text/html": [
       "<div>\n",
       "<style scoped>\n",
       "    .dataframe tbody tr th:only-of-type {\n",
       "        vertical-align: middle;\n",
       "    }\n",
       "\n",
       "    .dataframe tbody tr th {\n",
       "        vertical-align: top;\n",
       "    }\n",
       "\n",
       "    .dataframe thead th {\n",
       "        text-align: right;\n",
       "    }\n",
       "</style>\n",
       "<table border=\"1\" class=\"dataframe\">\n",
       "  <thead>\n",
       "    <tr style=\"text-align: right;\">\n",
       "      <th></th>\n",
       "      <th>Price</th>\n",
       "      <th>RegistrationYear</th>\n",
       "      <th>Power</th>\n",
       "      <th>Kilometer</th>\n",
       "      <th>RegistrationMonth</th>\n",
       "      <th>NumberOfPictures</th>\n",
       "      <th>PostalCode</th>\n",
       "    </tr>\n",
       "  </thead>\n",
       "  <tbody>\n",
       "    <tr>\n",
       "      <td>count</td>\n",
       "      <td>354369.000000</td>\n",
       "      <td>354369.000000</td>\n",
       "      <td>354369.000000</td>\n",
       "      <td>354369.000000</td>\n",
       "      <td>354369.000000</td>\n",
       "      <td>354369.0</td>\n",
       "      <td>354369.000000</td>\n",
       "    </tr>\n",
       "    <tr>\n",
       "      <td>mean</td>\n",
       "      <td>4416.656776</td>\n",
       "      <td>2004.234448</td>\n",
       "      <td>110.094337</td>\n",
       "      <td>128211.172535</td>\n",
       "      <td>5.714645</td>\n",
       "      <td>0.0</td>\n",
       "      <td>50508.689087</td>\n",
       "    </tr>\n",
       "    <tr>\n",
       "      <td>std</td>\n",
       "      <td>4514.158514</td>\n",
       "      <td>90.227958</td>\n",
       "      <td>189.850405</td>\n",
       "      <td>37905.341530</td>\n",
       "      <td>3.726421</td>\n",
       "      <td>0.0</td>\n",
       "      <td>25783.096248</td>\n",
       "    </tr>\n",
       "    <tr>\n",
       "      <td>min</td>\n",
       "      <td>0.000000</td>\n",
       "      <td>1000.000000</td>\n",
       "      <td>0.000000</td>\n",
       "      <td>5000.000000</td>\n",
       "      <td>0.000000</td>\n",
       "      <td>0.0</td>\n",
       "      <td>1067.000000</td>\n",
       "    </tr>\n",
       "    <tr>\n",
       "      <td>25%</td>\n",
       "      <td>1050.000000</td>\n",
       "      <td>1999.000000</td>\n",
       "      <td>69.000000</td>\n",
       "      <td>125000.000000</td>\n",
       "      <td>3.000000</td>\n",
       "      <td>0.0</td>\n",
       "      <td>30165.000000</td>\n",
       "    </tr>\n",
       "    <tr>\n",
       "      <td>50%</td>\n",
       "      <td>2700.000000</td>\n",
       "      <td>2003.000000</td>\n",
       "      <td>105.000000</td>\n",
       "      <td>150000.000000</td>\n",
       "      <td>6.000000</td>\n",
       "      <td>0.0</td>\n",
       "      <td>49413.000000</td>\n",
       "    </tr>\n",
       "    <tr>\n",
       "      <td>75%</td>\n",
       "      <td>6400.000000</td>\n",
       "      <td>2008.000000</td>\n",
       "      <td>143.000000</td>\n",
       "      <td>150000.000000</td>\n",
       "      <td>9.000000</td>\n",
       "      <td>0.0</td>\n",
       "      <td>71083.000000</td>\n",
       "    </tr>\n",
       "    <tr>\n",
       "      <td>max</td>\n",
       "      <td>20000.000000</td>\n",
       "      <td>9999.000000</td>\n",
       "      <td>20000.000000</td>\n",
       "      <td>150000.000000</td>\n",
       "      <td>12.000000</td>\n",
       "      <td>0.0</td>\n",
       "      <td>99998.000000</td>\n",
       "    </tr>\n",
       "  </tbody>\n",
       "</table>\n",
       "</div>"
      ],
      "text/plain": [
       "               Price  RegistrationYear          Power      Kilometer  \\\n",
       "count  354369.000000     354369.000000  354369.000000  354369.000000   \n",
       "mean     4416.656776       2004.234448     110.094337  128211.172535   \n",
       "std      4514.158514         90.227958     189.850405   37905.341530   \n",
       "min         0.000000       1000.000000       0.000000    5000.000000   \n",
       "25%      1050.000000       1999.000000      69.000000  125000.000000   \n",
       "50%      2700.000000       2003.000000     105.000000  150000.000000   \n",
       "75%      6400.000000       2008.000000     143.000000  150000.000000   \n",
       "max     20000.000000       9999.000000   20000.000000  150000.000000   \n",
       "\n",
       "       RegistrationMonth  NumberOfPictures     PostalCode  \n",
       "count      354369.000000          354369.0  354369.000000  \n",
       "mean            5.714645               0.0   50508.689087  \n",
       "std             3.726421               0.0   25783.096248  \n",
       "min             0.000000               0.0    1067.000000  \n",
       "25%             3.000000               0.0   30165.000000  \n",
       "50%             6.000000               0.0   49413.000000  \n",
       "75%             9.000000               0.0   71083.000000  \n",
       "max            12.000000               0.0   99998.000000  "
      ]
     },
     "execution_count": 7,
     "metadata": {},
     "output_type": "execute_result"
    }
   ],
   "source": [
    "cars.describe()"
   ]
  },
  {
   "cell_type": "markdown",
   "metadata": {},
   "source": [
    "Очень странно выглядит нулевая цена, а это целевой признак. Уберём самые минимальные цены и очистим данные от выбросов с помощью правила трёх сигм:"
   ]
  },
  {
   "cell_type": "code",
   "execution_count": 8,
   "metadata": {},
   "outputs": [
    {
     "data": {
      "text/plain": [
       "12750"
      ]
     },
     "execution_count": 8,
     "metadata": {},
     "output_type": "execute_result"
    }
   ],
   "source": [
    "cars[cars['Price'] <= 50]['Price'].count()"
   ]
  },
  {
   "cell_type": "code",
   "execution_count": 9,
   "metadata": {
    "scrolled": true
   },
   "outputs": [
    {
     "name": "stdout",
     "output_type": "stream",
     "text": [
      "Цены около 0 евро составляют всего 3.39% от выборки.\n"
     ]
    }
   ],
   "source": [
    "print('Цены около 0 евро составляют всего {:.2%} от выборки.'.format(cars[cars['Price'] < 10]['Price'].count() / cars.shape[0]))"
   ]
  },
  {
   "cell_type": "code",
   "execution_count": 10,
   "metadata": {
    "scrolled": true
   },
   "outputs": [
    {
     "data": {
      "text/plain": [
       "<matplotlib.axes._subplots.AxesSubplot at 0x7f4376bddc10>"
      ]
     },
     "execution_count": 10,
     "metadata": {},
     "output_type": "execute_result"
    },
    {
     "data": {
      "image/png": "[encoded data removed]",
      "text/plain": [
       "<Figure size 432x288 with 1 Axes>"
      ]
     },
     "metadata": {
      "needs_background": "light"
     },
     "output_type": "display_data"
    }
   ],
   "source": [
    "cars['Price'].hist(bins=50)"
   ]
  },
  {
   "cell_type": "markdown",
   "metadata": {},
   "source": [
    "Т.к. около нулевых цен не много и они могут оказатся выбросами, чтобы не сбивать модель, избавимся от них и отбросим выбросы по правилу трёх сигм:"
   ]
  },
  {
   "cell_type": "code",
   "execution_count": 11,
   "metadata": {},
   "outputs": [],
   "source": [
    "maximum = cars['Price'].mean() + (3 * np.std(cars['Price']))\n",
    "minimum = 50  # cars['Price'].mean() + (3 * np.std(cars[Price]))\n",
    "cars = cars.query('@minimum < Price < @maximum')"
   ]
  },
  {
   "cell_type": "code",
   "execution_count": 12,
   "metadata": {
    "scrolled": true
   },
   "outputs": [
    {
     "data": {
      "text/plain": [
       "<matplotlib.axes._subplots.AxesSubplot at 0x7f437616e6d0>"
      ]
     },
     "execution_count": 12,
     "metadata": {},
     "output_type": "execute_result"
    },
    {
     "data": {
      "image/png": "[encoded data removed]",
      "text/plain": [
       "<Figure size 432x288 with 1 Axes>"
      ]
     },
     "metadata": {
      "needs_background": "light"
     },
     "output_type": "display_data"
    }
   ],
   "source": [
    "cars['Price'].hist(bins=50)"
   ]
  },
  {
   "cell_type": "code",
   "execution_count": 13,
   "metadata": {
    "scrolled": true
   },
   "outputs": [
    {
     "data": {
      "text/plain": [
       "<matplotlib.axes._subplots.AxesSubplot at 0x7f4376068d10>"
      ]
     },
     "execution_count": 13,
     "metadata": {},
     "output_type": "execute_result"
    },
    {
     "data": {
      "image/png": "[encoded data removed]",
      "text/plain": [
       "<Figure size 432x288 with 1 Axes>"
      ]
     },
     "metadata": {
      "needs_background": "light"
     },
     "output_type": "display_data"
    }
   ],
   "source": [
    "cars.boxplot(column=['Price'])"
   ]
  },
  {
   "cell_type": "code",
   "execution_count": 14,
   "metadata": {},
   "outputs": [
    {
     "data": {
      "text/html": [
       "<div>\n",
       "<style scoped>\n",
       "    .dataframe tbody tr th:only-of-type {\n",
       "        vertical-align: middle;\n",
       "    }\n",
       "\n",
       "    .dataframe tbody tr th {\n",
       "        vertical-align: top;\n",
       "    }\n",
       "\n",
       "    .dataframe thead th {\n",
       "        text-align: right;\n",
       "    }\n",
       "</style>\n",
       "<table border=\"1\" class=\"dataframe\">\n",
       "  <thead>\n",
       "    <tr style=\"text-align: right;\">\n",
       "      <th></th>\n",
       "      <th>Price</th>\n",
       "      <th>RegistrationYear</th>\n",
       "      <th>Power</th>\n",
       "      <th>Kilometer</th>\n",
       "      <th>RegistrationMonth</th>\n",
       "      <th>NumberOfPictures</th>\n",
       "      <th>PostalCode</th>\n",
       "    </tr>\n",
       "  </thead>\n",
       "  <tbody>\n",
       "    <tr>\n",
       "      <td>count</td>\n",
       "      <td>336135.000000</td>\n",
       "      <td>336135.000000</td>\n",
       "      <td>336135.000000</td>\n",
       "      <td>336135.000000</td>\n",
       "      <td>336135.000000</td>\n",
       "      <td>336135.0</td>\n",
       "      <td>336135.000000</td>\n",
       "    </tr>\n",
       "    <tr>\n",
       "      <td>mean</td>\n",
       "      <td>4344.905818</td>\n",
       "      <td>2003.899656</td>\n",
       "      <td>110.033002</td>\n",
       "      <td>129146.131763</td>\n",
       "      <td>5.786880</td>\n",
       "      <td>0.0</td>\n",
       "      <td>50626.758752</td>\n",
       "    </tr>\n",
       "    <tr>\n",
       "      <td>std</td>\n",
       "      <td>4150.196536</td>\n",
       "      <td>72.316816</td>\n",
       "      <td>189.263974</td>\n",
       "      <td>36731.166703</td>\n",
       "      <td>3.695358</td>\n",
       "      <td>0.0</td>\n",
       "      <td>25728.978164</td>\n",
       "    </tr>\n",
       "    <tr>\n",
       "      <td>min</td>\n",
       "      <td>55.000000</td>\n",
       "      <td>1000.000000</td>\n",
       "      <td>0.000000</td>\n",
       "      <td>5000.000000</td>\n",
       "      <td>0.000000</td>\n",
       "      <td>0.0</td>\n",
       "      <td>1067.000000</td>\n",
       "    </tr>\n",
       "    <tr>\n",
       "      <td>25%</td>\n",
       "      <td>1200.000000</td>\n",
       "      <td>1999.000000</td>\n",
       "      <td>69.000000</td>\n",
       "      <td>125000.000000</td>\n",
       "      <td>3.000000</td>\n",
       "      <td>0.0</td>\n",
       "      <td>30419.000000</td>\n",
       "    </tr>\n",
       "    <tr>\n",
       "      <td>50%</td>\n",
       "      <td>2800.000000</td>\n",
       "      <td>2003.000000</td>\n",
       "      <td>105.000000</td>\n",
       "      <td>150000.000000</td>\n",
       "      <td>6.000000</td>\n",
       "      <td>0.0</td>\n",
       "      <td>49479.000000</td>\n",
       "    </tr>\n",
       "    <tr>\n",
       "      <td>75%</td>\n",
       "      <td>6300.000000</td>\n",
       "      <td>2007.000000</td>\n",
       "      <td>140.000000</td>\n",
       "      <td>150000.000000</td>\n",
       "      <td>9.000000</td>\n",
       "      <td>0.0</td>\n",
       "      <td>71126.000000</td>\n",
       "    </tr>\n",
       "    <tr>\n",
       "      <td>max</td>\n",
       "      <td>17950.000000</td>\n",
       "      <td>9999.000000</td>\n",
       "      <td>20000.000000</td>\n",
       "      <td>150000.000000</td>\n",
       "      <td>12.000000</td>\n",
       "      <td>0.0</td>\n",
       "      <td>99998.000000</td>\n",
       "    </tr>\n",
       "  </tbody>\n",
       "</table>\n",
       "</div>"
      ],
      "text/plain": [
       "               Price  RegistrationYear          Power      Kilometer  \\\n",
       "count  336135.000000     336135.000000  336135.000000  336135.000000   \n",
       "mean     4344.905818       2003.899656     110.033002  129146.131763   \n",
       "std      4150.196536         72.316816     189.263974   36731.166703   \n",
       "min        55.000000       1000.000000       0.000000    5000.000000   \n",
       "25%      1200.000000       1999.000000      69.000000  125000.000000   \n",
       "50%      2800.000000       2003.000000     105.000000  150000.000000   \n",
       "75%      6300.000000       2007.000000     140.000000  150000.000000   \n",
       "max     17950.000000       9999.000000   20000.000000  150000.000000   \n",
       "\n",
       "       RegistrationMonth  NumberOfPictures     PostalCode  \n",
       "count      336135.000000          336135.0  336135.000000  \n",
       "mean            5.786880               0.0   50626.758752  \n",
       "std             3.695358               0.0   25728.978164  \n",
       "min             0.000000               0.0    1067.000000  \n",
       "25%             3.000000               0.0   30419.000000  \n",
       "50%             6.000000               0.0   49479.000000  \n",
       "75%             9.000000               0.0   71126.000000  \n",
       "max            12.000000               0.0   99998.000000  "
      ]
     },
     "execution_count": 14,
     "metadata": {},
     "output_type": "execute_result"
    }
   ],
   "source": [
    "cars.describe()"
   ]
  },
  {
   "cell_type": "code",
   "execution_count": 15,
   "metadata": {},
   "outputs": [
    {
     "name": "stdout",
     "output_type": "stream",
     "text": [
      "<class 'pandas.core.frame.DataFrame'>\n",
      "Int64Index: 336135 entries, 0 to 354368\n",
      "Data columns (total 16 columns):\n",
      "DateCrawled          336135 non-null datetime64[ns]\n",
      "Price                336135 non-null int64\n",
      "VehicleType          303442 non-null object\n",
      "RegistrationYear     336135 non-null int64\n",
      "Gearbox              319671 non-null object\n",
      "Power                336135 non-null int64\n",
      "Model                319219 non-null object\n",
      "Kilometer            336135 non-null int64\n",
      "RegistrationMonth    336135 non-null int64\n",
      "FuelType             307718 non-null object\n",
      "Brand                336135 non-null object\n",
      "NotRepaired          271801 non-null object\n",
      "DateCreated          336135 non-null datetime64[ns]\n",
      "NumberOfPictures     336135 non-null int64\n",
      "PostalCode           336135 non-null int64\n",
      "LastSeen             336135 non-null datetime64[ns]\n",
      "dtypes: datetime64[ns](3), int64(7), object(6)\n",
      "memory usage: 43.6+ MB\n"
     ]
    }
   ],
   "source": [
    "cars.info()"
   ]
  },
  {
   "cell_type": "code",
   "execution_count": 16,
   "metadata": {},
   "outputs": [
    {
     "data": {
      "text/plain": [
       "array([0])"
      ]
     },
     "execution_count": 16,
     "metadata": {},
     "output_type": "execute_result"
    }
   ],
   "source": [
    "cars['NumberOfPictures'].unique()"
   ]
  },
  {
   "cell_type": "code",
   "execution_count": 17,
   "metadata": {},
   "outputs": [
    {
     "data": {
      "text/plain": [
       "count    336135.0\n",
       "mean          0.0\n",
       "std           0.0\n",
       "min           0.0\n",
       "25%           0.0\n",
       "50%           0.0\n",
       "75%           0.0\n",
       "max           0.0\n",
       "Name: NumberOfPictures, dtype: float64"
      ]
     },
     "execution_count": 17,
     "metadata": {},
     "output_type": "execute_result"
    }
   ],
   "source": [
    "cars['NumberOfPictures'].describe()"
   ]
  },
  {
   "cell_type": "markdown",
   "metadata": {},
   "source": [
    "В столбце NumberOfPictures имеем только значение 0. Есть смысл избавиться от него:"
   ]
  },
  {
   "cell_type": "code",
   "execution_count": 18,
   "metadata": {},
   "outputs": [],
   "source": [
    "cars = cars.drop('NumberOfPictures', axis=1)"
   ]
  },
  {
   "cell_type": "markdown",
   "metadata": {},
   "source": [
    "Рассмотрим признак Model:"
   ]
  },
  {
   "cell_type": "code",
   "execution_count": 19,
   "metadata": {},
   "outputs": [
    {
     "data": {
      "text/plain": [
       "16916"
      ]
     },
     "execution_count": 19,
     "metadata": {},
     "output_type": "execute_result"
    }
   ],
   "source": [
    "cars['Model'].isna().sum()"
   ]
  },
  {
   "cell_type": "code",
   "execution_count": 20,
   "metadata": {},
   "outputs": [
    {
     "data": {
      "text/plain": [
       "array(['golf', 'grand', 'fabia', '3er', '2_reihe', 'c_max', '3_reihe',\n",
       "       'passat', 'ka', 'polo', 'twingo', 'a_klasse', 'scirocco', '5er',\n",
       "       'meriva', 'arosa', 'other', 'c4', 'civic', 'transporter', 'punto',\n",
       "       'e_klasse', 'clio', 'kadett', 'kangoo', 'one', 'fortwo', '1er',\n",
       "       'b_klasse', 'signum', 'astra', 'a8', 'jetta', 'fiesta', 'c_klasse',\n",
       "       'micra', 'vito', 'sprinter', '156', nan, 'escort', 'forester',\n",
       "       'xc_reihe', 'scenic', 'a4', 'a1', 'insignia', 'combo', 'focus',\n",
       "       'tt', 'corsa', 'a6', 'jazz', 'omega', 'slk', '7er', '80', '147',\n",
       "       '100', 'z_reihe', 'sportage', 'sorento', 'v40', 'ibiza', 'eos',\n",
       "       'touran', 'getz', 'a3', 'almera', 'megane', 'lupo', 'r19',\n",
       "       'zafira', 'caddy', 'mondeo', 'cordoba', 'colt', 'impreza',\n",
       "       'vectra', 'berlingo', 'tiguan', 'i_reihe', 'espace', 'sharan',\n",
       "       '6_reihe', 'panda', 'up', 'seicento', 'ceed', 'yeti', 'octavia',\n",
       "       'mii', 'rx_reihe', '6er', 'modus', 'fox', 'matiz', 'beetle', 'c1',\n",
       "       'rio', 'touareg', 'logan', 'spider', 'cuore', 's_max', 'a2',\n",
       "       'galaxy', 'c3', 's_klasse', '1_reihe', 'avensis', 'viano',\n",
       "       'roomster', 'sl', 'kaefer', 'santa', 'cooper', 'leon', '4_reihe',\n",
       "       'a5', '500', 'laguna', 'ptcruiser', 'clk', 'primera', 'x_reihe',\n",
       "       'exeo', '159', 'transit', 'juke', 'qashqai', 'carisma', 'accord',\n",
       "       'corolla', 'lanos', 'phaeton', 'verso', 'swift', 'rav', 'picanto',\n",
       "       'boxster', 'kalos', 'superb', 'stilo', 'alhambra', 'roadster',\n",
       "       'ypsilon', 'cayenne', 'galant', 'justy', '90', 'sirion',\n",
       "       'crossfire', 'agila', 'duster', 'cr_reihe', 'v50', 'mx_reihe',\n",
       "       'c_reihe', 'v_klasse', 'm_klasse', 'yaris', 'c5', 'aygo', 'cc',\n",
       "       'carnival', 'fusion', '911', 'bora', 'forfour', 'cl', 'tigra',\n",
       "       '300c', 'spark', 'v70', 'kuga', '5_reihe', 'x_type', 'ducato',\n",
       "       's_type', 'x_trail', 'toledo', 'altea', 'voyager', 'calibra',\n",
       "       'bravo', 'antara', 'tucson', 'citigo', 'jimny', 'wrangler',\n",
       "       'lybra', 'q7', 'lancer', 'captiva', 'c2', 'discovery',\n",
       "       'freelander', 'sandero', 'note', 'navara', '900', 'cherokee',\n",
       "       'clubman', 'samara', 'defender', '601', 'cx_reihe', 'legacy',\n",
       "       'pajero', 'mustang', 'auris', 'niva', 's60', 'm_reihe', 'nubira',\n",
       "       'vivaro', 'g_klasse', 'lodgy', '850', 'range_rover', 'serie_2',\n",
       "       'charade', 'croma', 'outlander', 'doblo', 'musa', 'move', '9000',\n",
       "       'v60', '145', 'aveo', '200', 'glk', 'b_max', 'range_rover_sport',\n",
       "       'terios', 'rangerover', 'q5', 'range_rover_evoque', 'materia',\n",
       "       'delta', 'kalina', 'amarok', 'elefantino', 'i3', 'kappa',\n",
       "       'serie_3', 'gl', 'serie_1', 'q3'], dtype=object)"
      ]
     },
     "execution_count": 20,
     "metadata": {},
     "output_type": "execute_result"
    }
   ],
   "source": [
    "cars['Model'].unique()"
   ]
  },
  {
   "cell_type": "markdown",
   "metadata": {},
   "source": [
    "Заполним пропуски словом 'other':"
   ]
  },
  {
   "cell_type": "code",
   "execution_count": 21,
   "metadata": {},
   "outputs": [
    {
     "data": {
      "text/plain": [
       "23078"
      ]
     },
     "execution_count": 21,
     "metadata": {},
     "output_type": "execute_result"
    }
   ],
   "source": [
    "cars.query('Model == \"other\"')['Model'].count()"
   ]
  },
  {
   "cell_type": "code",
   "execution_count": 22,
   "metadata": {},
   "outputs": [],
   "source": [
    "cars['Model'].fillna('other', inplace=True)"
   ]
  },
  {
   "cell_type": "code",
   "execution_count": 23,
   "metadata": {},
   "outputs": [
    {
     "data": {
      "text/plain": [
       "39994"
      ]
     },
     "execution_count": 23,
     "metadata": {},
     "output_type": "execute_result"
    }
   ],
   "source": [
    "cars.query('Model == \"other\"')['Model'].count()"
   ]
  },
  {
   "cell_type": "markdown",
   "metadata": {},
   "source": [
    "Заменим other на самые распространённые модели в каждом бренде:"
   ]
  },
  {
   "cell_type": "code",
   "execution_count": 24,
   "metadata": {},
   "outputs": [
    {
     "name": "stdout",
     "output_type": "stream",
     "text": [
      "sonstige_autos\n"
     ]
    }
   ],
   "source": [
    "for i in cars['Brand'].unique():\n",
    "    list_oper = []\n",
    "    for j in cars.query('Brand == @i')['Model'].unique():\n",
    "        if j != 'other':\n",
    "            list_oper.append(cars.query('Brand == @i and Model == @j')['Model'].count())\n",
    "    try:\n",
    "        max_count = max(list_oper)\n",
    "    except:\n",
    "        print(i)\n",
    "    for j in cars.query('Brand == @i')['Model'].unique():\n",
    "        if cars.query('Brand == @i and Model == @j')['Model'].count() == max_count:\n",
    "            ind = cars.loc[(cars['Brand'] == i) & (cars['Model'] == 'other')].index\n",
    "            cars.loc[ind, 'Model'] = j"
   ]
  },
  {
   "cell_type": "code",
   "execution_count": 25,
   "metadata": {},
   "outputs": [
    {
     "data": {
      "text/plain": [
       "array(['sonstige_autos'], dtype=object)"
      ]
     },
     "execution_count": 25,
     "metadata": {},
     "output_type": "execute_result"
    }
   ],
   "source": [
    "cars.query('Model == \"other\"')['Brand'].unique()"
   ]
  },
  {
   "cell_type": "markdown",
   "metadata": {},
   "source": [
    "Остался один бренд с неизвестной моделью."
   ]
  },
  {
   "cell_type": "code",
   "execution_count": 26,
   "metadata": {},
   "outputs": [
    {
     "data": {
      "text/plain": [
       "array(['other'], dtype=object)"
      ]
     },
     "execution_count": 26,
     "metadata": {},
     "output_type": "execute_result"
    }
   ],
   "source": [
    "cars.query('Brand == \"sonstige_autos\"')['Model'].unique()"
   ]
  },
  {
   "cell_type": "markdown",
   "metadata": {},
   "source": [
    "Видимо у всего бренда не указано ни одной модели в данных."
   ]
  },
  {
   "cell_type": "code",
   "execution_count": 27,
   "metadata": {},
   "outputs": [
    {
     "data": {
      "text/html": [
       "<div>\n",
       "<style scoped>\n",
       "    .dataframe tbody tr th:only-of-type {\n",
       "        vertical-align: middle;\n",
       "    }\n",
       "\n",
       "    .dataframe tbody tr th {\n",
       "        vertical-align: top;\n",
       "    }\n",
       "\n",
       "    .dataframe thead th {\n",
       "        text-align: right;\n",
       "    }\n",
       "</style>\n",
       "<table border=\"1\" class=\"dataframe\">\n",
       "  <thead>\n",
       "    <tr style=\"text-align: right;\">\n",
       "      <th></th>\n",
       "      <th>DateCrawled</th>\n",
       "      <th>Price</th>\n",
       "      <th>VehicleType</th>\n",
       "      <th>RegistrationYear</th>\n",
       "      <th>Gearbox</th>\n",
       "      <th>Power</th>\n",
       "      <th>Model</th>\n",
       "      <th>Kilometer</th>\n",
       "      <th>RegistrationMonth</th>\n",
       "      <th>FuelType</th>\n",
       "      <th>Brand</th>\n",
       "      <th>NotRepaired</th>\n",
       "      <th>DateCreated</th>\n",
       "      <th>PostalCode</th>\n",
       "      <th>LastSeen</th>\n",
       "    </tr>\n",
       "  </thead>\n",
       "  <tbody>\n",
       "    <tr>\n",
       "      <td>306</td>\n",
       "      <td>2016-03-21 14:38:37</td>\n",
       "      <td>200</td>\n",
       "      <td>NaN</td>\n",
       "      <td>2009</td>\n",
       "      <td>NaN</td>\n",
       "      <td>0</td>\n",
       "      <td>other</td>\n",
       "      <td>10000</td>\n",
       "      <td>0</td>\n",
       "      <td>NaN</td>\n",
       "      <td>sonstige_autos</td>\n",
       "      <td>NaN</td>\n",
       "      <td>2016-03-21</td>\n",
       "      <td>6493</td>\n",
       "      <td>2016-03-24 02:47:34</td>\n",
       "    </tr>\n",
       "    <tr>\n",
       "      <td>431</td>\n",
       "      <td>2016-03-20 20:45:27</td>\n",
       "      <td>3950</td>\n",
       "      <td>small</td>\n",
       "      <td>2004</td>\n",
       "      <td>auto</td>\n",
       "      <td>5</td>\n",
       "      <td>other</td>\n",
       "      <td>70000</td>\n",
       "      <td>5</td>\n",
       "      <td>gasoline</td>\n",
       "      <td>sonstige_autos</td>\n",
       "      <td>no</td>\n",
       "      <td>2016-03-20</td>\n",
       "      <td>90562</td>\n",
       "      <td>2016-04-03 04:17:08</td>\n",
       "    </tr>\n",
       "    <tr>\n",
       "      <td>650</td>\n",
       "      <td>2016-03-30 11:55:46</td>\n",
       "      <td>15000</td>\n",
       "      <td>coupe</td>\n",
       "      <td>1971</td>\n",
       "      <td>NaN</td>\n",
       "      <td>0</td>\n",
       "      <td>other</td>\n",
       "      <td>5000</td>\n",
       "      <td>4</td>\n",
       "      <td>NaN</td>\n",
       "      <td>sonstige_autos</td>\n",
       "      <td>no</td>\n",
       "      <td>2016-03-30</td>\n",
       "      <td>51145</td>\n",
       "      <td>2016-04-07 02:45:10</td>\n",
       "    </tr>\n",
       "    <tr>\n",
       "      <td>661</td>\n",
       "      <td>2016-04-01 15:56:27</td>\n",
       "      <td>9900</td>\n",
       "      <td>suv</td>\n",
       "      <td>2000</td>\n",
       "      <td>auto</td>\n",
       "      <td>250</td>\n",
       "      <td>other</td>\n",
       "      <td>150000</td>\n",
       "      <td>4</td>\n",
       "      <td>lpg</td>\n",
       "      <td>sonstige_autos</td>\n",
       "      <td>no</td>\n",
       "      <td>2016-04-01</td>\n",
       "      <td>17309</td>\n",
       "      <td>2016-04-07 14:56:03</td>\n",
       "    </tr>\n",
       "    <tr>\n",
       "      <td>700</td>\n",
       "      <td>2016-03-30 21:37:21</td>\n",
       "      <td>6999</td>\n",
       "      <td>sedan</td>\n",
       "      <td>2010</td>\n",
       "      <td>auto</td>\n",
       "      <td>186</td>\n",
       "      <td>other</td>\n",
       "      <td>125000</td>\n",
       "      <td>4</td>\n",
       "      <td>petrol</td>\n",
       "      <td>sonstige_autos</td>\n",
       "      <td>no</td>\n",
       "      <td>2016-03-30</td>\n",
       "      <td>81929</td>\n",
       "      <td>2016-04-05 11:18:33</td>\n",
       "    </tr>\n",
       "    <tr>\n",
       "      <td>985</td>\n",
       "      <td>2016-03-15 16:37:22</td>\n",
       "      <td>500</td>\n",
       "      <td>sedan</td>\n",
       "      <td>2010</td>\n",
       "      <td>manual</td>\n",
       "      <td>101</td>\n",
       "      <td>other</td>\n",
       "      <td>70000</td>\n",
       "      <td>1</td>\n",
       "      <td>petrol</td>\n",
       "      <td>sonstige_autos</td>\n",
       "      <td>yes</td>\n",
       "      <td>2016-03-15</td>\n",
       "      <td>76829</td>\n",
       "      <td>2016-03-21 14:15:21</td>\n",
       "    </tr>\n",
       "    <tr>\n",
       "      <td>999</td>\n",
       "      <td>2016-04-02 23:39:49</td>\n",
       "      <td>3900</td>\n",
       "      <td>wagon</td>\n",
       "      <td>1990</td>\n",
       "      <td>manual</td>\n",
       "      <td>0</td>\n",
       "      <td>other</td>\n",
       "      <td>30000</td>\n",
       "      <td>5</td>\n",
       "      <td>petrol</td>\n",
       "      <td>sonstige_autos</td>\n",
       "      <td>NaN</td>\n",
       "      <td>2016-04-02</td>\n",
       "      <td>15345</td>\n",
       "      <td>2016-04-07 01:46:23</td>\n",
       "    </tr>\n",
       "    <tr>\n",
       "      <td>1098</td>\n",
       "      <td>2016-03-06 22:43:51</td>\n",
       "      <td>11500</td>\n",
       "      <td>bus</td>\n",
       "      <td>1985</td>\n",
       "      <td>auto</td>\n",
       "      <td>160</td>\n",
       "      <td>other</td>\n",
       "      <td>125000</td>\n",
       "      <td>10</td>\n",
       "      <td>petrol</td>\n",
       "      <td>sonstige_autos</td>\n",
       "      <td>NaN</td>\n",
       "      <td>2016-03-06</td>\n",
       "      <td>4849</td>\n",
       "      <td>2016-04-05 18:17:04</td>\n",
       "    </tr>\n",
       "    <tr>\n",
       "      <td>1106</td>\n",
       "      <td>2016-03-22 11:38:37</td>\n",
       "      <td>9200</td>\n",
       "      <td>sedan</td>\n",
       "      <td>2005</td>\n",
       "      <td>auto</td>\n",
       "      <td>249</td>\n",
       "      <td>other</td>\n",
       "      <td>150000</td>\n",
       "      <td>10</td>\n",
       "      <td>petrol</td>\n",
       "      <td>sonstige_autos</td>\n",
       "      <td>no</td>\n",
       "      <td>2016-03-22</td>\n",
       "      <td>95447</td>\n",
       "      <td>2016-04-05 23:16:55</td>\n",
       "    </tr>\n",
       "    <tr>\n",
       "      <td>1274</td>\n",
       "      <td>2016-03-24 15:38:12</td>\n",
       "      <td>16990</td>\n",
       "      <td>small</td>\n",
       "      <td>2015</td>\n",
       "      <td>manual</td>\n",
       "      <td>135</td>\n",
       "      <td>other</td>\n",
       "      <td>20000</td>\n",
       "      <td>5</td>\n",
       "      <td>petrol</td>\n",
       "      <td>sonstige_autos</td>\n",
       "      <td>no</td>\n",
       "      <td>2016-03-24</td>\n",
       "      <td>74199</td>\n",
       "      <td>2016-04-07 07:16:51</td>\n",
       "    </tr>\n",
       "    <tr>\n",
       "      <td>1345</td>\n",
       "      <td>2016-03-21 01:57:37</td>\n",
       "      <td>899</td>\n",
       "      <td>NaN</td>\n",
       "      <td>1990</td>\n",
       "      <td>NaN</td>\n",
       "      <td>37</td>\n",
       "      <td>other</td>\n",
       "      <td>60000</td>\n",
       "      <td>2</td>\n",
       "      <td>NaN</td>\n",
       "      <td>sonstige_autos</td>\n",
       "      <td>NaN</td>\n",
       "      <td>2016-03-21</td>\n",
       "      <td>85057</td>\n",
       "      <td>2016-03-27 21:44:30</td>\n",
       "    </tr>\n",
       "    <tr>\n",
       "      <td>1405</td>\n",
       "      <td>2016-03-28 15:37:13</td>\n",
       "      <td>3999</td>\n",
       "      <td>convertible</td>\n",
       "      <td>1999</td>\n",
       "      <td>manual</td>\n",
       "      <td>120</td>\n",
       "      <td>other</td>\n",
       "      <td>125000</td>\n",
       "      <td>9</td>\n",
       "      <td>petrol</td>\n",
       "      <td>sonstige_autos</td>\n",
       "      <td>no</td>\n",
       "      <td>2016-03-28</td>\n",
       "      <td>16567</td>\n",
       "      <td>2016-04-06 20:15:37</td>\n",
       "    </tr>\n",
       "    <tr>\n",
       "      <td>1524</td>\n",
       "      <td>2016-04-04 21:45:35</td>\n",
       "      <td>1500</td>\n",
       "      <td>bus</td>\n",
       "      <td>1976</td>\n",
       "      <td>manual</td>\n",
       "      <td>50</td>\n",
       "      <td>other</td>\n",
       "      <td>5000</td>\n",
       "      <td>1</td>\n",
       "      <td>gasoline</td>\n",
       "      <td>sonstige_autos</td>\n",
       "      <td>NaN</td>\n",
       "      <td>2016-04-04</td>\n",
       "      <td>19288</td>\n",
       "      <td>2016-04-07 00:16:46</td>\n",
       "    </tr>\n",
       "    <tr>\n",
       "      <td>1537</td>\n",
       "      <td>2016-03-18 00:55:38</td>\n",
       "      <td>300</td>\n",
       "      <td>NaN</td>\n",
       "      <td>2010</td>\n",
       "      <td>NaN</td>\n",
       "      <td>0</td>\n",
       "      <td>other</td>\n",
       "      <td>150000</td>\n",
       "      <td>12</td>\n",
       "      <td>NaN</td>\n",
       "      <td>sonstige_autos</td>\n",
       "      <td>NaN</td>\n",
       "      <td>2016-03-18</td>\n",
       "      <td>22113</td>\n",
       "      <td>2016-03-23 17:48:43</td>\n",
       "    </tr>\n",
       "    <tr>\n",
       "      <td>1744</td>\n",
       "      <td>2016-03-31 17:52:56</td>\n",
       "      <td>4600</td>\n",
       "      <td>other</td>\n",
       "      <td>2008</td>\n",
       "      <td>manual</td>\n",
       "      <td>0</td>\n",
       "      <td>other</td>\n",
       "      <td>150000</td>\n",
       "      <td>0</td>\n",
       "      <td>gasoline</td>\n",
       "      <td>sonstige_autos</td>\n",
       "      <td>NaN</td>\n",
       "      <td>2016-03-31</td>\n",
       "      <td>49086</td>\n",
       "      <td>2016-04-06 12:16:48</td>\n",
       "    </tr>\n",
       "  </tbody>\n",
       "</table>\n",
       "</div>"
      ],
      "text/plain": [
       "             DateCrawled  Price  VehicleType  RegistrationYear Gearbox  Power  \\\n",
       "306  2016-03-21 14:38:37    200          NaN              2009     NaN      0   \n",
       "431  2016-03-20 20:45:27   3950        small              2004    auto      5   \n",
       "650  2016-03-30 11:55:46  15000        coupe              1971     NaN      0   \n",
       "661  2016-04-01 15:56:27   9900          suv              2000    auto    250   \n",
       "700  2016-03-30 21:37:21   6999        sedan              2010    auto    186   \n",
       "985  2016-03-15 16:37:22    500        sedan              2010  manual    101   \n",
       "999  2016-04-02 23:39:49   3900        wagon              1990  manual      0   \n",
       "1098 2016-03-06 22:43:51  11500          bus              1985    auto    160   \n",
       "1106 2016-03-22 11:38:37   9200        sedan              2005    auto    249   \n",
       "1274 2016-03-24 15:38:12  16990        small              2015  manual    135   \n",
       "1345 2016-03-21 01:57:37    899          NaN              1990     NaN     37   \n",
       "1405 2016-03-28 15:37:13   3999  convertible              1999  manual    120   \n",
       "1524 2016-04-04 21:45:35   1500          bus              1976  manual     50   \n",
       "1537 2016-03-18 00:55:38    300          NaN              2010     NaN      0   \n",
       "1744 2016-03-31 17:52:56   4600        other              2008  manual      0   \n",
       "\n",
       "      Model  Kilometer  RegistrationMonth  FuelType           Brand  \\\n",
       "306   other      10000                  0       NaN  sonstige_autos   \n",
       "431   other      70000                  5  gasoline  sonstige_autos   \n",
       "650   other       5000                  4       NaN  sonstige_autos   \n",
       "661   other     150000                  4       lpg  sonstige_autos   \n",
       "700   other     125000                  4    petrol  sonstige_autos   \n",
       "985   other      70000                  1    petrol  sonstige_autos   \n",
       "999   other      30000                  5    petrol  sonstige_autos   \n",
       "1098  other     125000                 10    petrol  sonstige_autos   \n",
       "1106  other     150000                 10    petrol  sonstige_autos   \n",
       "1274  other      20000                  5    petrol  sonstige_autos   \n",
       "1345  other      60000                  2       NaN  sonstige_autos   \n",
       "1405  other     125000                  9    petrol  sonstige_autos   \n",
       "1524  other       5000                  1  gasoline  sonstige_autos   \n",
       "1537  other     150000                 12       NaN  sonstige_autos   \n",
       "1744  other     150000                  0  gasoline  sonstige_autos   \n",
       "\n",
       "     NotRepaired DateCreated  PostalCode            LastSeen  \n",
       "306          NaN  2016-03-21        6493 2016-03-24 02:47:34  \n",
       "431           no  2016-03-20       90562 2016-04-03 04:17:08  \n",
       "650           no  2016-03-30       51145 2016-04-07 02:45:10  \n",
       "661           no  2016-04-01       17309 2016-04-07 14:56:03  \n",
       "700           no  2016-03-30       81929 2016-04-05 11:18:33  \n",
       "985          yes  2016-03-15       76829 2016-03-21 14:15:21  \n",
       "999          NaN  2016-04-02       15345 2016-04-07 01:46:23  \n",
       "1098         NaN  2016-03-06        4849 2016-04-05 18:17:04  \n",
       "1106          no  2016-03-22       95447 2016-04-05 23:16:55  \n",
       "1274          no  2016-03-24       74199 2016-04-07 07:16:51  \n",
       "1345         NaN  2016-03-21       85057 2016-03-27 21:44:30  \n",
       "1405          no  2016-03-28       16567 2016-04-06 20:15:37  \n",
       "1524         NaN  2016-04-04       19288 2016-04-07 00:16:46  \n",
       "1537         NaN  2016-03-18       22113 2016-03-23 17:48:43  \n",
       "1744         NaN  2016-03-31       49086 2016-04-06 12:16:48  "
      ]
     },
     "execution_count": 27,
     "metadata": {},
     "output_type": "execute_result"
    }
   ],
   "source": [
    "cars.query('Brand == \"sonstige_autos\"').head(15)"
   ]
  },
  {
   "cell_type": "markdown",
   "metadata": {},
   "source": [
    "С немецкого, это перевод - прочие автомобили. Есть смысл оставить модель unknown.  \n",
    "\n",
    "Псмотрим на VehicleType:"
   ]
  },
  {
   "cell_type": "code",
   "execution_count": 28,
   "metadata": {
    "scrolled": true
   },
   "outputs": [
    {
     "data": {
      "text/plain": [
       "array([nan, 'suv', 'small', 'sedan', 'convertible', 'bus', 'wagon',\n",
       "       'coupe', 'other'], dtype=object)"
      ]
     },
     "execution_count": 28,
     "metadata": {},
     "output_type": "execute_result"
    }
   ],
   "source": [
    "cars['VehicleType'].unique()"
   ]
  },
  {
   "cell_type": "markdown",
   "metadata": {},
   "source": [
    "Заполним пропуски словом other:"
   ]
  },
  {
   "cell_type": "code",
   "execution_count": 29,
   "metadata": {},
   "outputs": [],
   "source": [
    "cars['VehicleType'].fillna('other', inplace=True)"
   ]
  },
  {
   "cell_type": "code",
   "execution_count": 30,
   "metadata": {
    "scrolled": true
   },
   "outputs": [
    {
     "data": {
      "text/html": [
       "<div>\n",
       "<style scoped>\n",
       "    .dataframe tbody tr th:only-of-type {\n",
       "        vertical-align: middle;\n",
       "    }\n",
       "\n",
       "    .dataframe tbody tr th {\n",
       "        vertical-align: top;\n",
       "    }\n",
       "\n",
       "    .dataframe thead th {\n",
       "        text-align: right;\n",
       "    }\n",
       "</style>\n",
       "<table border=\"1\" class=\"dataframe\">\n",
       "  <thead>\n",
       "    <tr style=\"text-align: right;\">\n",
       "      <th></th>\n",
       "      <th>DateCrawled</th>\n",
       "      <th>Price</th>\n",
       "      <th>VehicleType</th>\n",
       "      <th>RegistrationYear</th>\n",
       "      <th>Gearbox</th>\n",
       "      <th>Power</th>\n",
       "      <th>Model</th>\n",
       "      <th>Kilometer</th>\n",
       "      <th>RegistrationMonth</th>\n",
       "      <th>FuelType</th>\n",
       "      <th>Brand</th>\n",
       "      <th>NotRepaired</th>\n",
       "      <th>DateCreated</th>\n",
       "      <th>PostalCode</th>\n",
       "      <th>LastSeen</th>\n",
       "    </tr>\n",
       "  </thead>\n",
       "  <tbody>\n",
       "    <tr>\n",
       "      <td>0</td>\n",
       "      <td>2016-03-24 11:52:17</td>\n",
       "      <td>480</td>\n",
       "      <td>other</td>\n",
       "      <td>1993</td>\n",
       "      <td>manual</td>\n",
       "      <td>0</td>\n",
       "      <td>golf</td>\n",
       "      <td>150000</td>\n",
       "      <td>0</td>\n",
       "      <td>petrol</td>\n",
       "      <td>volkswagen</td>\n",
       "      <td>NaN</td>\n",
       "      <td>2016-03-24</td>\n",
       "      <td>70435</td>\n",
       "      <td>2016-04-07 03:16:57</td>\n",
       "    </tr>\n",
       "    <tr>\n",
       "      <td>16</td>\n",
       "      <td>2016-04-01 12:46:46</td>\n",
       "      <td>300</td>\n",
       "      <td>other</td>\n",
       "      <td>2016</td>\n",
       "      <td>NaN</td>\n",
       "      <td>60</td>\n",
       "      <td>polo</td>\n",
       "      <td>150000</td>\n",
       "      <td>0</td>\n",
       "      <td>petrol</td>\n",
       "      <td>volkswagen</td>\n",
       "      <td>NaN</td>\n",
       "      <td>2016-04-01</td>\n",
       "      <td>38871</td>\n",
       "      <td>2016-04-01 12:46:46</td>\n",
       "    </tr>\n",
       "    <tr>\n",
       "      <td>22</td>\n",
       "      <td>2016-03-23 14:52:51</td>\n",
       "      <td>2900</td>\n",
       "      <td>other</td>\n",
       "      <td>2018</td>\n",
       "      <td>manual</td>\n",
       "      <td>90</td>\n",
       "      <td>meriva</td>\n",
       "      <td>150000</td>\n",
       "      <td>5</td>\n",
       "      <td>petrol</td>\n",
       "      <td>opel</td>\n",
       "      <td>no</td>\n",
       "      <td>2016-03-23</td>\n",
       "      <td>49716</td>\n",
       "      <td>2016-03-31 01:16:33</td>\n",
       "    </tr>\n",
       "    <tr>\n",
       "      <td>26</td>\n",
       "      <td>2016-03-10 19:38:18</td>\n",
       "      <td>5555</td>\n",
       "      <td>other</td>\n",
       "      <td>2017</td>\n",
       "      <td>manual</td>\n",
       "      <td>125</td>\n",
       "      <td>c4</td>\n",
       "      <td>125000</td>\n",
       "      <td>4</td>\n",
       "      <td>NaN</td>\n",
       "      <td>citroen</td>\n",
       "      <td>no</td>\n",
       "      <td>2016-03-10</td>\n",
       "      <td>31139</td>\n",
       "      <td>2016-03-16 09:16:46</td>\n",
       "    </tr>\n",
       "    <tr>\n",
       "      <td>31</td>\n",
       "      <td>2016-03-29 16:57:02</td>\n",
       "      <td>899</td>\n",
       "      <td>other</td>\n",
       "      <td>2016</td>\n",
       "      <td>manual</td>\n",
       "      <td>60</td>\n",
       "      <td>clio</td>\n",
       "      <td>150000</td>\n",
       "      <td>6</td>\n",
       "      <td>petrol</td>\n",
       "      <td>renault</td>\n",
       "      <td>NaN</td>\n",
       "      <td>2016-03-29</td>\n",
       "      <td>37075</td>\n",
       "      <td>2016-03-29 17:43:07</td>\n",
       "    </tr>\n",
       "  </tbody>\n",
       "</table>\n",
       "</div>"
      ],
      "text/plain": [
       "           DateCrawled  Price VehicleType  RegistrationYear Gearbox  Power  \\\n",
       "0  2016-03-24 11:52:17    480       other              1993  manual      0   \n",
       "16 2016-04-01 12:46:46    300       other              2016     NaN     60   \n",
       "22 2016-03-23 14:52:51   2900       other              2018  manual     90   \n",
       "26 2016-03-10 19:38:18   5555       other              2017  manual    125   \n",
       "31 2016-03-29 16:57:02    899       other              2016  manual     60   \n",
       "\n",
       "     Model  Kilometer  RegistrationMonth FuelType       Brand NotRepaired  \\\n",
       "0     golf     150000                  0   petrol  volkswagen         NaN   \n",
       "16    polo     150000                  0   petrol  volkswagen         NaN   \n",
       "22  meriva     150000                  5   petrol        opel          no   \n",
       "26      c4     125000                  4      NaN     citroen          no   \n",
       "31    clio     150000                  6   petrol     renault         NaN   \n",
       "\n",
       "   DateCreated  PostalCode            LastSeen  \n",
       "0   2016-03-24       70435 2016-04-07 03:16:57  \n",
       "16  2016-04-01       38871 2016-04-01 12:46:46  \n",
       "22  2016-03-23       49716 2016-03-31 01:16:33  \n",
       "26  2016-03-10       31139 2016-03-16 09:16:46  \n",
       "31  2016-03-29       37075 2016-03-29 17:43:07  "
      ]
     },
     "execution_count": 30,
     "metadata": {},
     "output_type": "execute_result"
    }
   ],
   "source": [
    "cars[cars['VehicleType'] == 'other'].head()"
   ]
  },
  {
   "cell_type": "markdown",
   "metadata": {},
   "source": [
    "Попробуем заменить other на самые частые кузова по брендам в моделях:"
   ]
  },
  {
   "cell_type": "code",
   "execution_count": 31,
   "metadata": {
    "scrolled": true
   },
   "outputs": [],
   "source": [
    "for i in cars['Brand'].unique():\n",
    "    for j in cars.query('Brand == @i')['Model'].unique():\n",
    "        list_oper = []\n",
    "        for k in cars.query('Brand == @i and Model == @j')['VehicleType'].unique():\n",
    "            if k != 'other':\n",
    "                list_oper.append(cars.query('Brand == @i and Model == @j and VehicleType == @k')['VehicleType'].count())\n",
    "        max_count = max(list_oper)\n",
    "        for k in cars.query('Brand == @i and Model == @j')['VehicleType'].unique():\n",
    "            if cars.query('Brand == @i and Model == @j and VehicleType == @k')['VehicleType'].count() == max_count:\n",
    "                ind = cars.loc[(cars['Brand'] == i) & (cars['Model'] == j) & (cars['VehicleType'] == 'other')].index\n",
    "                cars.loc[ind, 'VehicleType'] = k"
   ]
  },
  {
   "cell_type": "code",
   "execution_count": 32,
   "metadata": {
    "scrolled": true
   },
   "outputs": [
    {
     "data": {
      "text/plain": [
       "array(['sedan', 'suv', 'small', 'convertible', 'bus', 'wagon', 'coupe'],\n",
       "      dtype=object)"
      ]
     },
     "execution_count": 32,
     "metadata": {},
     "output_type": "execute_result"
    }
   ],
   "source": [
    "cars['VehicleType'].unique()"
   ]
  },
  {
   "cell_type": "markdown",
   "metadata": {},
   "source": [
    "Рассмотрим RegistrationYear:"
   ]
  },
  {
   "cell_type": "code",
   "execution_count": 33,
   "metadata": {
    "scrolled": true
   },
   "outputs": [
    {
     "data": {
      "text/plain": [
       "count    336135.000000\n",
       "mean       2003.899656\n",
       "std          72.316816\n",
       "min        1000.000000\n",
       "25%        1999.000000\n",
       "50%        2003.000000\n",
       "75%        2007.000000\n",
       "max        9999.000000\n",
       "Name: RegistrationYear, dtype: float64"
      ]
     },
     "execution_count": 33,
     "metadata": {},
     "output_type": "execute_result"
    }
   ],
   "source": [
    "cars['RegistrationYear'].describe()"
   ]
  },
  {
   "cell_type": "code",
   "execution_count": 34,
   "metadata": {
    "scrolled": true
   },
   "outputs": [
    {
     "name": "stdout",
     "output_type": "stream",
     "text": [
      "Автомобилой с датой регистрации до 1970 года - 0.31%\n"
     ]
    }
   ],
   "source": [
    "print('Автомобилой с датой регистрации до 1970 года - {:.2%}'.format(cars[cars['RegistrationYear'] < 1970]['RegistrationYear'].count() / cars['RegistrationYear'].shape[0]))"
   ]
  },
  {
   "cell_type": "markdown",
   "metadata": {},
   "source": [
    "Удалим подозрительные гогда регистрации машин."
   ]
  },
  {
   "cell_type": "code",
   "execution_count": 35,
   "metadata": {},
   "outputs": [],
   "source": [
    "cars = cars.loc[(cars['RegistrationYear'] < 2019) | (cars['RegistrationYear'] > 1970)]"
   ]
  },
  {
   "cell_type": "code",
   "execution_count": 36,
   "metadata": {},
   "outputs": [
    {
     "data": {
      "text/plain": [
       "array([1993, 2004, 2001, 2008, 1995, 2014, 1998, 2005, 1910, 2016, 2007,\n",
       "       2009, 2002, 2018, 1997, 1990, 2017, 1981, 2003, 1994, 1991, 1984,\n",
       "       2006, 1999, 2012, 2010, 2000, 1992, 2013, 1996, 1985, 1989, 2011,\n",
       "       2015, 1982, 1976, 1983, 1973, 1969, 1971, 1987, 1986, 1988, 1980,\n",
       "       1970, 1965, 1945, 1925, 1974, 1979, 1955, 1978, 1972, 1968, 1977,\n",
       "       1961, 1966, 1975, 1963, 1964, 1960, 1958, 1967, 3200, 1000, 1941,\n",
       "       9999, 8888, 1500, 2200, 4100, 1962, 1929, 1957, 1940, 3000, 2066,\n",
       "       1949, 2019, 1937, 1951, 1800, 1959, 1953, 1954, 1234, 8000, 5300,\n",
       "       9000, 2900, 6000, 5900, 5911, 1400, 5000, 1950, 4000, 1948, 1952,\n",
       "       1956, 8500, 1255, 3700, 3800, 4800, 1942, 7000, 1935, 1933, 1936,\n",
       "       1923, 2290, 1930, 1001, 9450, 1944, 2500, 1943, 1938, 1934, 1928,\n",
       "       5555, 5600, 1600, 1111, 1932, 2222, 1039, 1300, 2800, 1931, 4500,\n",
       "       1602, 7800, 1947, 1927, 7100, 8200, 1946])"
      ]
     },
     "execution_count": 36,
     "metadata": {},
     "output_type": "execute_result"
    }
   ],
   "source": [
    "cars['RegistrationYear'].unique()"
   ]
  },
  {
   "cell_type": "markdown",
   "metadata": {},
   "source": [
    "Рассмотрим признак Gearbox:"
   ]
  },
  {
   "cell_type": "code",
   "execution_count": 37,
   "metadata": {},
   "outputs": [
    {
     "data": {
      "text/plain": [
       "array(['manual', 'auto', nan], dtype=object)"
      ]
     },
     "execution_count": 37,
     "metadata": {},
     "output_type": "execute_result"
    }
   ],
   "source": [
    "cars['Gearbox'].unique()"
   ]
  },
  {
   "cell_type": "markdown",
   "metadata": {},
   "source": [
    "Заменим пропуски на unknown_, т.к. выяcнить вид коробки невозможно, у многих моделей присутсвует и механика и автомат:"
   ]
  },
  {
   "cell_type": "code",
   "execution_count": 38,
   "metadata": {
    "scrolled": true
   },
   "outputs": [
    {
     "data": {
      "text/html": [
       "<div>\n",
       "<style scoped>\n",
       "    .dataframe tbody tr th:only-of-type {\n",
       "        vertical-align: middle;\n",
       "    }\n",
       "\n",
       "    .dataframe tbody tr th {\n",
       "        vertical-align: top;\n",
       "    }\n",
       "\n",
       "    .dataframe thead th {\n",
       "        text-align: right;\n",
       "    }\n",
       "</style>\n",
       "<table border=\"1\" class=\"dataframe\">\n",
       "  <thead>\n",
       "    <tr style=\"text-align: right;\">\n",
       "      <th></th>\n",
       "      <th>DateCrawled</th>\n",
       "      <th>Price</th>\n",
       "      <th>VehicleType</th>\n",
       "      <th>RegistrationYear</th>\n",
       "      <th>Gearbox</th>\n",
       "      <th>Power</th>\n",
       "      <th>Model</th>\n",
       "      <th>Kilometer</th>\n",
       "      <th>RegistrationMonth</th>\n",
       "      <th>FuelType</th>\n",
       "      <th>Brand</th>\n",
       "      <th>NotRepaired</th>\n",
       "      <th>DateCreated</th>\n",
       "      <th>PostalCode</th>\n",
       "      <th>LastSeen</th>\n",
       "    </tr>\n",
       "  </thead>\n",
       "  <tbody>\n",
       "    <tr>\n",
       "      <td>15</td>\n",
       "      <td>2016-03-11 21:39:15</td>\n",
       "      <td>450</td>\n",
       "      <td>small</td>\n",
       "      <td>1910</td>\n",
       "      <td>unknown_</td>\n",
       "      <td>0</td>\n",
       "      <td>ka</td>\n",
       "      <td>5000</td>\n",
       "      <td>0</td>\n",
       "      <td>petrol</td>\n",
       "      <td>ford</td>\n",
       "      <td>NaN</td>\n",
       "      <td>2016-03-11</td>\n",
       "      <td>24148</td>\n",
       "      <td>2016-03-19 08:46:47</td>\n",
       "    </tr>\n",
       "    <tr>\n",
       "      <td>16</td>\n",
       "      <td>2016-04-01 12:46:46</td>\n",
       "      <td>300</td>\n",
       "      <td>small</td>\n",
       "      <td>2016</td>\n",
       "      <td>unknown_</td>\n",
       "      <td>60</td>\n",
       "      <td>polo</td>\n",
       "      <td>150000</td>\n",
       "      <td>0</td>\n",
       "      <td>petrol</td>\n",
       "      <td>volkswagen</td>\n",
       "      <td>NaN</td>\n",
       "      <td>2016-04-01</td>\n",
       "      <td>38871</td>\n",
       "      <td>2016-04-01 12:46:46</td>\n",
       "    </tr>\n",
       "    <tr>\n",
       "      <td>32</td>\n",
       "      <td>2016-03-15 20:59:01</td>\n",
       "      <td>245</td>\n",
       "      <td>sedan</td>\n",
       "      <td>1994</td>\n",
       "      <td>unknown_</td>\n",
       "      <td>0</td>\n",
       "      <td>golf</td>\n",
       "      <td>150000</td>\n",
       "      <td>2</td>\n",
       "      <td>petrol</td>\n",
       "      <td>volkswagen</td>\n",
       "      <td>no</td>\n",
       "      <td>2016-03-15</td>\n",
       "      <td>44145</td>\n",
       "      <td>2016-03-17 18:17:43</td>\n",
       "    </tr>\n",
       "    <tr>\n",
       "      <td>37</td>\n",
       "      <td>2016-03-28 17:50:15</td>\n",
       "      <td>1500</td>\n",
       "      <td>bus</td>\n",
       "      <td>2016</td>\n",
       "      <td>unknown_</td>\n",
       "      <td>0</td>\n",
       "      <td>kangoo</td>\n",
       "      <td>150000</td>\n",
       "      <td>1</td>\n",
       "      <td>gasoline</td>\n",
       "      <td>renault</td>\n",
       "      <td>no</td>\n",
       "      <td>2016-03-28</td>\n",
       "      <td>46483</td>\n",
       "      <td>2016-03-30 09:18:02</td>\n",
       "    </tr>\n",
       "    <tr>\n",
       "      <td>69</td>\n",
       "      <td>2016-04-01 11:56:40</td>\n",
       "      <td>1200</td>\n",
       "      <td>coupe</td>\n",
       "      <td>2001</td>\n",
       "      <td>unknown_</td>\n",
       "      <td>0</td>\n",
       "      <td>astra</td>\n",
       "      <td>150000</td>\n",
       "      <td>0</td>\n",
       "      <td>NaN</td>\n",
       "      <td>opel</td>\n",
       "      <td>NaN</td>\n",
       "      <td>2016-04-01</td>\n",
       "      <td>47249</td>\n",
       "      <td>2016-04-07 08:46:07</td>\n",
       "    </tr>\n",
       "  </tbody>\n",
       "</table>\n",
       "</div>"
      ],
      "text/plain": [
       "           DateCrawled  Price VehicleType  RegistrationYear   Gearbox  Power  \\\n",
       "15 2016-03-11 21:39:15    450       small              1910  unknown_      0   \n",
       "16 2016-04-01 12:46:46    300       small              2016  unknown_     60   \n",
       "32 2016-03-15 20:59:01    245       sedan              1994  unknown_      0   \n",
       "37 2016-03-28 17:50:15   1500         bus              2016  unknown_      0   \n",
       "69 2016-04-01 11:56:40   1200       coupe              2001  unknown_      0   \n",
       "\n",
       "     Model  Kilometer  RegistrationMonth  FuelType       Brand NotRepaired  \\\n",
       "15      ka       5000                  0    petrol        ford         NaN   \n",
       "16    polo     150000                  0    petrol  volkswagen         NaN   \n",
       "32    golf     150000                  2    petrol  volkswagen          no   \n",
       "37  kangoo     150000                  1  gasoline     renault          no   \n",
       "69   astra     150000                  0       NaN        opel         NaN   \n",
       "\n",
       "   DateCreated  PostalCode            LastSeen  \n",
       "15  2016-03-11       24148 2016-03-19 08:46:47  \n",
       "16  2016-04-01       38871 2016-04-01 12:46:46  \n",
       "32  2016-03-15       44145 2016-03-17 18:17:43  \n",
       "37  2016-03-28       46483 2016-03-30 09:18:02  \n",
       "69  2016-04-01       47249 2016-04-07 08:46:07  "
      ]
     },
     "execution_count": 38,
     "metadata": {},
     "output_type": "execute_result"
    }
   ],
   "source": [
    "cars['Gearbox'].fillna('unknown_', inplace=True)\n",
    "cars.query('Gearbox == \"unknown_\"').head()"
   ]
  },
  {
   "cell_type": "markdown",
   "metadata": {},
   "source": [
    "Рассмотрим признак Power:"
   ]
  },
  {
   "cell_type": "code",
   "execution_count": 39,
   "metadata": {
    "scrolled": false
   },
   "outputs": [
    {
     "data": {
      "text/plain": [
       "count    336135.000000\n",
       "mean        110.033002\n",
       "std         189.263974\n",
       "min           0.000000\n",
       "25%          69.000000\n",
       "50%         105.000000\n",
       "75%         140.000000\n",
       "max       20000.000000\n",
       "Name: Power, dtype: float64"
      ]
     },
     "execution_count": 39,
     "metadata": {},
     "output_type": "execute_result"
    }
   ],
   "source": [
    "cars['Power'].describe()"
   ]
  },
  {
   "cell_type": "code",
   "execution_count": 40,
   "metadata": {
    "scrolled": true
   },
   "outputs": [
    {
     "name": "stdout",
     "output_type": "stream",
     "text": [
      "Машины свыше 300 лошадиных сил в данных около 0.88%.\n",
      "Машины с 0 лошадиных сил в данных около 10.47%.\n",
      "Машины ниже 50 лошадиных сил в данных около 10.87%.\n"
     ]
    }
   ],
   "source": [
    "print('Машины свыше 300 лошадиных сил в данных около {:.2%}.'.format(cars.query('Power > 300')['Power'].count() / cars['Power'].shape[0]))\n",
    "print('Машины с 0 лошадиных сил в данных около {:.2%}.'.format(cars.query('Power == 0')['Power'].count() / cars['Power'].shape[0]))\n",
    "print('Машины ниже 50 лошадиных сил в данных около {:.2%}.'.format(cars.query('Power < 40')['Power'].count() / cars['Power'].shape[0]))"
   ]
  },
  {
   "cell_type": "markdown",
   "metadata": {},
   "source": [
    "Часть данных явно выбивается. Машины мене 40 лошадиных сил и более 300 сил мене процента в данных. Заменим их медианным значением по моделям:"
   ]
  },
  {
   "cell_type": "code",
   "execution_count": 41,
   "metadata": {},
   "outputs": [],
   "source": [
    "for i in cars['Model'].unique():\n",
    "    new_power = cars.query('Model == @i')['Power'].median()  # mean()\n",
    "    if 300 < new_power or new_power < 40:\n",
    "        new_power = cars['Power'].median()  # mean()\n",
    "    ind = cars.query('(Power < 40 or Power > 300) and Model == @i').index\n",
    "    cars.loc[ind, 'Power'] = new_power"
   ]
  },
  {
   "cell_type": "code",
   "execution_count": 42,
   "metadata": {
    "scrolled": true
   },
   "outputs": [
    {
     "data": {
      "text/plain": [
       "count    336135.000000\n",
       "mean        116.020682\n",
       "std          47.442216\n",
       "min          40.000000\n",
       "25%          75.000000\n",
       "50%         109.000000\n",
       "75%         143.000000\n",
       "max         300.000000\n",
       "Name: Power, dtype: float64"
      ]
     },
     "execution_count": 42,
     "metadata": {},
     "output_type": "execute_result"
    }
   ],
   "source": [
    "cars['Power'] = cars['Power'].astype('int64')\n",
    "cars['Power'].describe()"
   ]
  },
  {
   "cell_type": "markdown",
   "metadata": {},
   "source": [
    "Рассмотрим признак Kilometer:"
   ]
  },
  {
   "cell_type": "code",
   "execution_count": 43,
   "metadata": {},
   "outputs": [
    {
     "data": {
      "text/plain": [
       "array([150000, 125000,  90000,  30000,   5000, 100000,  60000,  70000,\n",
       "        80000,  50000,  40000,  20000,  10000])"
      ]
     },
     "execution_count": 43,
     "metadata": {},
     "output_type": "execute_result"
    }
   ],
   "source": [
    "cars['Kilometer'].unique()"
   ]
  },
  {
   "cell_type": "code",
   "execution_count": 44,
   "metadata": {},
   "outputs": [
    {
     "data": {
      "text/plain": [
       "count    336135.000000\n",
       "mean     129146.131763\n",
       "std       36731.166703\n",
       "min        5000.000000\n",
       "25%      125000.000000\n",
       "50%      150000.000000\n",
       "75%      150000.000000\n",
       "max      150000.000000\n",
       "Name: Kilometer, dtype: float64"
      ]
     },
     "execution_count": 44,
     "metadata": {},
     "output_type": "execute_result"
    }
   ],
   "source": [
    "cars['Kilometer'].describe()"
   ]
  },
  {
   "cell_type": "markdown",
   "metadata": {},
   "source": [
    "Километры не вызывают подозрений.  \n",
    "\n",
    "Рассмотрим признак RegistrationMonth:"
   ]
  },
  {
   "cell_type": "code",
   "execution_count": 45,
   "metadata": {},
   "outputs": [
    {
     "data": {
      "text/plain": [
       "[0, 1, 2, 3, 4, 5, 6, 7, 8, 9, 10, 11, 12]"
      ]
     },
     "execution_count": 45,
     "metadata": {},
     "output_type": "execute_result"
    }
   ],
   "source": [
    "sorted(cars['RegistrationMonth'].unique())"
   ]
  },
  {
   "cell_type": "code",
   "execution_count": 46,
   "metadata": {},
   "outputs": [
    {
     "data": {
      "text/plain": [
       "count    336135.000000\n",
       "mean          5.786880\n",
       "std           3.695358\n",
       "min           0.000000\n",
       "25%           3.000000\n",
       "50%           6.000000\n",
       "75%           9.000000\n",
       "max          12.000000\n",
       "Name: RegistrationMonth, dtype: float64"
      ]
     },
     "execution_count": 46,
     "metadata": {},
     "output_type": "execute_result"
    }
   ],
   "source": [
    "cars['RegistrationMonth'].describe()"
   ]
  },
  {
   "cell_type": "markdown",
   "metadata": {},
   "source": [
    "Нулевой месяц - это странно."
   ]
  },
  {
   "cell_type": "code",
   "execution_count": 47,
   "metadata": {
    "scrolled": false
   },
   "outputs": [
    {
     "name": "stdout",
     "output_type": "stream",
     "text": [
      "Таких данных около 9%. Удалим их\n"
     ]
    }
   ],
   "source": [
    "print('Таких данных около {:.0%}. Удалим их'.format(cars[cars['RegistrationMonth'] == 0]['RegistrationMonth'].count() / cars.shape[0]))"
   ]
  },
  {
   "cell_type": "code",
   "execution_count": 48,
   "metadata": {},
   "outputs": [],
   "source": [
    "cars = cars[cars['RegistrationMonth'] != 0]"
   ]
  },
  {
   "cell_type": "markdown",
   "metadata": {},
   "source": [
    "Рассмотрим признак FuelType:"
   ]
  },
  {
   "cell_type": "code",
   "execution_count": 49,
   "metadata": {
    "scrolled": true
   },
   "outputs": [
    {
     "data": {
      "text/plain": [
       "array(['gasoline', 'petrol', nan, 'lpg', 'other', 'hybrid', 'cng',\n",
       "       'electric'], dtype=object)"
      ]
     },
     "execution_count": 49,
     "metadata": {},
     "output_type": "execute_result"
    }
   ],
   "source": [
    "cars['FuelType'].unique()"
   ]
  },
  {
   "cell_type": "markdown",
   "metadata": {},
   "source": [
    "Заполним пропуски other:"
   ]
  },
  {
   "cell_type": "code",
   "execution_count": 50,
   "metadata": {},
   "outputs": [],
   "source": [
    "cars['FuelType'] = cars['FuelType'].fillna('other')"
   ]
  },
  {
   "cell_type": "markdown",
   "metadata": {},
   "source": [
    "Заменим other на тип топлива по моделям:"
   ]
  },
  {
   "cell_type": "code",
   "execution_count": 51,
   "metadata": {},
   "outputs": [],
   "source": [
    "for i in cars['Model'].unique():\n",
    "    list_oper= []\n",
    "    for j in cars[cars['Model'] == i]['FuelType'].unique():\n",
    "        if j != 'other':\n",
    "            list_oper.append(cars[(cars['Model'] == i) & (cars['FuelType'] == j)]['FuelType'].count())   \n",
    "    try:\n",
    "        max_num = max(list_oper)\n",
    "    except:\n",
    "        print(i)\n",
    "    for j in cars[cars['Model'] == i]['FuelType'].unique():\n",
    "        if max_num == cars[(cars['Model'] == i) & (cars['FuelType'] == j)]['FuelType'].count():\n",
    "            ind = cars.loc[(cars['Model'] == i) & (cars['FuelType'] == 'other')].index\n",
    "            cars.loc[ind, 'FuelType'] = j"
   ]
  },
  {
   "cell_type": "code",
   "execution_count": 52,
   "metadata": {},
   "outputs": [
    {
     "data": {
      "text/plain": [
       "array(['petrol', 'gasoline', 'lpg', 'cng', 'hybrid', 'electric'],\n",
       "      dtype=object)"
      ]
     },
     "execution_count": 52,
     "metadata": {},
     "output_type": "execute_result"
    }
   ],
   "source": [
    "cars[cars['Model'] == 'golf']['FuelType'].unique()"
   ]
  },
  {
   "cell_type": "markdown",
   "metadata": {},
   "source": [
    "Рассмотрим признак Brand:"
   ]
  },
  {
   "cell_type": "code",
   "execution_count": 53,
   "metadata": {},
   "outputs": [
    {
     "data": {
      "text/plain": [
       "0"
      ]
     },
     "execution_count": 53,
     "metadata": {},
     "output_type": "execute_result"
    }
   ],
   "source": [
    "cars['Brand'].isna().sum()"
   ]
  },
  {
   "cell_type": "code",
   "execution_count": 54,
   "metadata": {},
   "outputs": [
    {
     "data": {
      "text/plain": [
       "array(['jeep', 'volkswagen', 'skoda', 'bmw', 'peugeot', 'ford', 'mazda',\n",
       "       'renault', 'mercedes_benz', 'opel', 'seat', 'citroen', 'honda',\n",
       "       'fiat', 'mini', 'smart', 'hyundai', 'audi', 'nissan', 'subaru',\n",
       "       'volvo', 'mitsubishi', 'alfa_romeo', 'kia', 'suzuki', 'lancia',\n",
       "       'toyota', 'chevrolet', 'dacia', 'sonstige_autos', 'daihatsu',\n",
       "       'chrysler', 'jaguar', 'rover', 'porsche', 'daewoo', 'saab',\n",
       "       'trabant', 'land_rover', 'lada'], dtype=object)"
      ]
     },
     "execution_count": 54,
     "metadata": {},
     "output_type": "execute_result"
    }
   ],
   "source": [
    "cars['Brand'].unique()"
   ]
  },
  {
   "cell_type": "markdown",
   "metadata": {},
   "source": [
    "Ничего подозрительного не выявлено.  \n",
    "\n",
    "Рассмотрим NotRepaired:"
   ]
  },
  {
   "cell_type": "code",
   "execution_count": 55,
   "metadata": {
    "scrolled": true
   },
   "outputs": [
    {
     "data": {
      "text/plain": [
       "array([nan, 'no', 'yes'], dtype=object)"
      ]
     },
     "execution_count": 55,
     "metadata": {},
     "output_type": "execute_result"
    }
   ],
   "source": [
    "cars['NotRepaired'].unique()"
   ]
  },
  {
   "cell_type": "markdown",
   "metadata": {},
   "source": [
    "Заполним пропуски unknown, т.к. невозможно вытащить данные о ремонте."
   ]
  },
  {
   "cell_type": "code",
   "execution_count": 56,
   "metadata": {},
   "outputs": [
    {
     "data": {
      "text/plain": [
       "258274"
      ]
     },
     "execution_count": 56,
     "metadata": {},
     "output_type": "execute_result"
    }
   ],
   "source": [
    "cars['NotRepaired'] = cars['NotRepaired'].fillna('unknown')\n",
    "cars[cars['NotRepaired'] != 'unknown']['NotRepaired'].count()"
   ]
  },
  {
   "cell_type": "markdown",
   "metadata": {},
   "source": [
    "Посмотримн на признак DateCreated:"
   ]
  },
  {
   "cell_type": "code",
   "execution_count": 57,
   "metadata": {
    "scrolled": true
   },
   "outputs": [
    {
     "data": {
      "text/plain": [
       "array(['2016-03-14T00:00:00.000000000', '2016-03-17T00:00:00.000000000',\n",
       "       '2016-03-31T00:00:00.000000000', '2016-04-04T00:00:00.000000000',\n",
       "       '2016-04-01T00:00:00.000000000', '2016-03-26T00:00:00.000000000',\n",
       "       '2016-04-07T00:00:00.000000000', '2016-03-15T00:00:00.000000000',\n",
       "       '2016-03-21T00:00:00.000000000', '2016-03-20T00:00:00.000000000',\n",
       "       '2016-03-23T00:00:00.000000000', '2016-03-27T00:00:00.000000000',\n",
       "       '2016-03-12T00:00:00.000000000', '2016-03-13T00:00:00.000000000',\n",
       "       '2016-03-18T00:00:00.000000000', '2016-03-10T00:00:00.000000000',\n",
       "       '2016-03-07T00:00:00.000000000', '2016-03-09T00:00:00.000000000',\n",
       "       '2016-03-08T00:00:00.000000000', '2016-04-03T00:00:00.000000000',\n",
       "       '2016-03-29T00:00:00.000000000', '2016-03-28T00:00:00.000000000',\n",
       "       '2016-03-25T00:00:00.000000000', '2016-03-30T00:00:00.000000000',\n",
       "       '2016-03-22T00:00:00.000000000', '2016-02-09T00:00:00.000000000',\n",
       "       '2016-03-05T00:00:00.000000000', '2016-03-11T00:00:00.000000000',\n",
       "       '2016-04-02T00:00:00.000000000', '2016-03-16T00:00:00.000000000',\n",
       "       '2016-03-24T00:00:00.000000000', '2016-04-05T00:00:00.000000000',\n",
       "       '2016-03-06T00:00:00.000000000', '2016-03-19T00:00:00.000000000',\n",
       "       '2016-03-03T00:00:00.000000000', '2016-03-01T00:00:00.000000000',\n",
       "       '2016-03-04T00:00:00.000000000', '2016-04-06T00:00:00.000000000',\n",
       "       '2016-02-15T00:00:00.000000000', '2016-02-24T00:00:00.000000000',\n",
       "       '2016-02-27T00:00:00.000000000', '2016-02-28T00:00:00.000000000',\n",
       "       '2016-02-17T00:00:00.000000000', '2016-01-27T00:00:00.000000000',\n",
       "       '2016-02-20T00:00:00.000000000', '2016-02-29T00:00:00.000000000',\n",
       "       '2016-02-10T00:00:00.000000000', '2016-02-23T00:00:00.000000000',\n",
       "       '2016-02-21T00:00:00.000000000', '2015-11-02T00:00:00.000000000',\n",
       "       '2016-02-19T00:00:00.000000000', '2016-02-26T00:00:00.000000000',\n",
       "       '2016-02-11T00:00:00.000000000', '2016-01-10T00:00:00.000000000',\n",
       "       '2016-02-06T00:00:00.000000000', '2016-02-18T00:00:00.000000000',\n",
       "       '2016-01-29T00:00:00.000000000', '2016-03-02T00:00:00.000000000',\n",
       "       '2015-12-06T00:00:00.000000000', '2016-01-24T00:00:00.000000000',\n",
       "       '2016-01-30T00:00:00.000000000', '2016-02-02T00:00:00.000000000',\n",
       "       '2016-02-12T00:00:00.000000000', '2016-02-13T00:00:00.000000000',\n",
       "       '2016-02-05T00:00:00.000000000', '2016-02-22T00:00:00.000000000',\n",
       "       '2015-11-17T00:00:00.000000000', '2016-02-07T00:00:00.000000000',\n",
       "       '2016-01-23T00:00:00.000000000', '2016-02-25T00:00:00.000000000',\n",
       "       '2016-02-14T00:00:00.000000000', '2016-01-02T00:00:00.000000000',\n",
       "       '2015-09-04T00:00:00.000000000', '2015-11-12T00:00:00.000000000',\n",
       "       '2015-12-27T00:00:00.000000000', '2015-11-24T00:00:00.000000000',\n",
       "       '2016-01-20T00:00:00.000000000', '2016-02-03T00:00:00.000000000',\n",
       "       '2015-12-05T00:00:00.000000000', '2015-08-07T00:00:00.000000000',\n",
       "       '2016-01-28T00:00:00.000000000', '2016-02-16T00:00:00.000000000',\n",
       "       '2016-01-31T00:00:00.000000000', '2016-02-08T00:00:00.000000000',\n",
       "       '2016-01-07T00:00:00.000000000', '2016-01-22T00:00:00.000000000',\n",
       "       '2016-01-18T00:00:00.000000000', '2016-01-08T00:00:00.000000000',\n",
       "       '2015-11-23T00:00:00.000000000', '2016-01-13T00:00:00.000000000',\n",
       "       '2016-01-17T00:00:00.000000000', '2016-01-15T00:00:00.000000000',\n",
       "       '2015-11-08T00:00:00.000000000', '2016-02-04T00:00:00.000000000',\n",
       "       '2016-01-25T00:00:00.000000000', '2016-01-16T00:00:00.000000000',\n",
       "       '2015-08-10T00:00:00.000000000', '2016-01-03T00:00:00.000000000',\n",
       "       '2016-01-19T00:00:00.000000000', '2015-12-30T00:00:00.000000000',\n",
       "       '2016-02-01T00:00:00.000000000', '2015-12-17T00:00:00.000000000',\n",
       "       '2015-11-10T00:00:00.000000000', '2016-01-26T00:00:00.000000000',\n",
       "       '2016-01-06T00:00:00.000000000', '2015-09-09T00:00:00.000000000',\n",
       "       '2015-06-18T00:00:00.000000000'], dtype='datetime64[ns]')"
      ]
     },
     "execution_count": 57,
     "metadata": {},
     "output_type": "execute_result"
    }
   ],
   "source": [
    "cars['DateCreated'].unique()"
   ]
  },
  {
   "cell_type": "markdown",
   "metadata": {},
   "source": [
    "Ничего необычного.  \n",
    "\n",
    "Посмотрим на LastSeen:"
   ]
  },
  {
   "cell_type": "code",
   "execution_count": 58,
   "metadata": {
    "scrolled": true
   },
   "outputs": [
    {
     "data": {
      "text/plain": [
       "array(['2016-04-05T12:47:46.000000000', '2016-03-17T17:40:17.000000000',\n",
       "       '2016-04-06T10:17:21.000000000', ...,\n",
       "       '2016-03-19T20:44:43.000000000', '2016-03-29T10:17:23.000000000',\n",
       "       '2016-03-24T12:45:21.000000000'], dtype='datetime64[ns]')"
      ]
     },
     "execution_count": 58,
     "metadata": {},
     "output_type": "execute_result"
    }
   ],
   "source": [
    "cars['LastSeen'].unique()"
   ]
  },
  {
   "cell_type": "code",
   "execution_count": 59,
   "metadata": {
    "scrolled": true
   },
   "outputs": [
    {
     "data": {
      "text/plain": [
       "count                  304319\n",
       "unique                 159773\n",
       "top       2016-04-06 12:15:45\n",
       "freq                       16\n",
       "first     2016-03-05 14:15:08\n",
       "last      2016-04-07 14:58:51\n",
       "Name: LastSeen, dtype: object"
      ]
     },
     "execution_count": 59,
     "metadata": {},
     "output_type": "execute_result"
    }
   ],
   "source": [
    "cars['LastSeen'].describe()"
   ]
  },
  {
   "cell_type": "markdown",
   "metadata": {},
   "source": [
    "Ничего странного.  \n",
    "\n",
    "Для модели, признаки почтовый индекс пользователя, последняя активность, дата создания, дата скачивания объявления вероятно не нужны, т.к. скорее всего, это информация ресурса, откуда был скачан датасет и не влиют на цену автомобиля. Удалим их:"
   ]
  },
  {
   "cell_type": "code",
   "execution_count": 3,
   "metadata": {},
   "outputs": [],
   "source": [
    "cars = cars.drop(['LastSeen', 'PostalCode', 'DateCreated', 'DateCrawled'], axis=1)"
   ]
  },
  {
   "cell_type": "code",
   "execution_count": 61,
   "metadata": {
    "scrolled": true
   },
   "outputs": [
    {
     "name": "stdout",
     "output_type": "stream",
     "text": [
      "<class 'pandas.core.frame.DataFrame'>\n",
      "Int64Index: 304319 entries, 2 to 354368\n",
      "Data columns (total 11 columns):\n",
      "Price                304319 non-null int64\n",
      "VehicleType          304319 non-null object\n",
      "RegistrationYear     304319 non-null int64\n",
      "Gearbox              304319 non-null object\n",
      "Power                304319 non-null int64\n",
      "Model                304319 non-null object\n",
      "Kilometer            304319 non-null int64\n",
      "RegistrationMonth    304319 non-null int64\n",
      "FuelType             304319 non-null object\n",
      "Brand                304319 non-null object\n",
      "NotRepaired          304319 non-null object\n",
      "dtypes: int64(5), object(6)\n",
      "memory usage: 37.9+ MB\n"
     ]
    }
   ],
   "source": [
    "cars.info()"
   ]
  },
  {
   "cell_type": "markdown",
   "metadata": {},
   "source": [
    "Посмотрим, есть ли дубликаты:"
   ]
  },
  {
   "cell_type": "code",
   "execution_count": 62,
   "metadata": {},
   "outputs": [
    {
     "data": {
      "text/plain": [
       "25508"
      ]
     },
     "execution_count": 62,
     "metadata": {},
     "output_type": "execute_result"
    }
   ],
   "source": [
    "cars.duplicated().sum()"
   ]
  },
  {
   "cell_type": "markdown",
   "metadata": {},
   "source": [
    "Избавимся от дубликатов:"
   ]
  },
  {
   "cell_type": "code",
   "execution_count": 63,
   "metadata": {
    "scrolled": true
   },
   "outputs": [],
   "source": [
    "cars = cars.drop_duplicates().reset_index(drop=True)"
   ]
  },
  {
   "cell_type": "code",
   "execution_count": 64,
   "metadata": {},
   "outputs": [
    {
     "data": {
      "text/plain": [
       "0"
      ]
     },
     "execution_count": 64,
     "metadata": {},
     "output_type": "execute_result"
    }
   ],
   "source": [
    "cars.duplicated().sum()"
   ]
  },
  {
   "cell_type": "markdown",
   "metadata": {},
   "source": [
    "Данные предобработаны. Можно переходить к моделям."
   ]
  },
  {
   "cell_type": "markdown",
   "metadata": {},
   "source": [
    "# 2. Обучение моделей.<a id='2_Обучение_моделей.'></a>"
   ]
  },
  {
   "cell_type": "markdown",
   "metadata": {},
   "source": [
    "Проверим корреляцию признаков:"
   ]
  },
  {
   "cell_type": "code",
   "execution_count": 4,
   "metadata": {},
   "outputs": [],
   "source": [
    "features = cars.drop('Price', axis=1)\n",
    "target = cars['Price']"
   ]
  },
  {
   "cell_type": "code",
   "execution_count": 66,
   "metadata": {},
   "outputs": [
    {
     "data": {
      "text/html": [
       "<div>\n",
       "<style scoped>\n",
       "    .dataframe tbody tr th:only-of-type {\n",
       "        vertical-align: middle;\n",
       "    }\n",
       "\n",
       "    .dataframe tbody tr th {\n",
       "        vertical-align: top;\n",
       "    }\n",
       "\n",
       "    .dataframe thead th {\n",
       "        text-align: right;\n",
       "    }\n",
       "</style>\n",
       "<table border=\"1\" class=\"dataframe\">\n",
       "  <thead>\n",
       "    <tr style=\"text-align: right;\">\n",
       "      <th></th>\n",
       "      <th>VehicleType</th>\n",
       "      <th>RegistrationYear</th>\n",
       "      <th>Gearbox</th>\n",
       "      <th>Power</th>\n",
       "      <th>Model</th>\n",
       "      <th>Kilometer</th>\n",
       "      <th>RegistrationMonth</th>\n",
       "      <th>FuelType</th>\n",
       "      <th>Brand</th>\n",
       "      <th>NotRepaired</th>\n",
       "    </tr>\n",
       "  </thead>\n",
       "  <tbody>\n",
       "    <tr>\n",
       "      <td>0</td>\n",
       "      <td>suv</td>\n",
       "      <td>2004</td>\n",
       "      <td>auto</td>\n",
       "      <td>163</td>\n",
       "      <td>grand</td>\n",
       "      <td>125000</td>\n",
       "      <td>8</td>\n",
       "      <td>gasoline</td>\n",
       "      <td>jeep</td>\n",
       "      <td>unknown</td>\n",
       "    </tr>\n",
       "    <tr>\n",
       "      <td>1</td>\n",
       "      <td>small</td>\n",
       "      <td>2001</td>\n",
       "      <td>manual</td>\n",
       "      <td>75</td>\n",
       "      <td>golf</td>\n",
       "      <td>150000</td>\n",
       "      <td>6</td>\n",
       "      <td>petrol</td>\n",
       "      <td>volkswagen</td>\n",
       "      <td>no</td>\n",
       "    </tr>\n",
       "  </tbody>\n",
       "</table>\n",
       "</div>"
      ],
      "text/plain": [
       "  VehicleType  RegistrationYear Gearbox  Power  Model  Kilometer  \\\n",
       "0         suv              2004    auto    163  grand     125000   \n",
       "1       small              2001  manual     75   golf     150000   \n",
       "\n",
       "   RegistrationMonth  FuelType       Brand NotRepaired  \n",
       "0                  8  gasoline        jeep     unknown  \n",
       "1                  6    petrol  volkswagen          no  "
      ]
     },
     "execution_count": 66,
     "metadata": {},
     "output_type": "execute_result"
    }
   ],
   "source": [
    "features.head(2)"
   ]
  },
  {
   "cell_type": "code",
   "execution_count": 67,
   "metadata": {
    "scrolled": true
   },
   "outputs": [
    {
     "name": "stdout",
     "output_type": "stream",
     "text": [
      "<class 'pandas.core.frame.DataFrame'>\n",
      "RangeIndex: 278811 entries, 0 to 278810\n",
      "Data columns (total 10 columns):\n",
      "VehicleType          278811 non-null object\n",
      "RegistrationYear     278811 non-null int64\n",
      "Gearbox              278811 non-null object\n",
      "Power                278811 non-null int64\n",
      "Model                278811 non-null object\n",
      "Kilometer            278811 non-null int64\n",
      "RegistrationMonth    278811 non-null int64\n",
      "FuelType             278811 non-null object\n",
      "Brand                278811 non-null object\n",
      "NotRepaired          278811 non-null object\n",
      "dtypes: int64(4), object(6)\n",
      "memory usage: 21.3+ MB\n"
     ]
    }
   ],
   "source": [
    "features.info()"
   ]
  },
  {
   "cell_type": "code",
   "execution_count": 68,
   "metadata": {},
   "outputs": [
    {
     "name": "stdout",
     "output_type": "stream",
     "text": [
      "Корреляция Power и Price больше или меньше 0.9 = 0.4850234766337619\n",
      "Корреляция Kilometer и Price больше или меньше 0.9 = -0.3561106201123081\n",
      "Корреляция Price и Power больше или меньше 0.9 = 0.4850234766337619\n",
      "Корреляция Price и Kilometer больше или меньше 0.9 = -0.3561106201123081\n"
     ]
    }
   ],
   "source": [
    "for i in ['RegistrationYear', 'Power', 'Kilometer', 'RegistrationMonth', 'Price']:\n",
    "    for j in ['RegistrationYear', 'Power', 'Kilometer', 'RegistrationMonth', 'Price']:\n",
    "        if i != j:\n",
    "            correl = cars[i].corr(cars[j])\n",
    "            if correl > 0.3 or correl < -0.3:\n",
    "                print(f'Корреляция {i} и {j} больше или меньше 0.9 = {correl}')"
   ]
  },
  {
   "cell_type": "markdown",
   "metadata": {},
   "source": [
    "Power и Price - имеют слабую корреляцию - почти 0.5. Остальные признаки не кореллируют."
   ]
  },
  {
   "cell_type": "markdown",
   "metadata": {},
   "source": [
    "Закодируем категориальные признаки OHE:"
   ]
  },
  {
   "cell_type": "code",
   "execution_count": 69,
   "metadata": {},
   "outputs": [],
   "source": [
    "list_columns_cat = ['VehicleType', 'Gearbox', 'Model', 'FuelType', 'Brand', 'NotRepaired']"
   ]
  },
  {
   "cell_type": "code",
   "execution_count": 70,
   "metadata": {},
   "outputs": [
    {
     "data": {
      "text/html": [
       "<div>\n",
       "<style scoped>\n",
       "    .dataframe tbody tr th:only-of-type {\n",
       "        vertical-align: middle;\n",
       "    }\n",
       "\n",
       "    .dataframe tbody tr th {\n",
       "        vertical-align: top;\n",
       "    }\n",
       "\n",
       "    .dataframe thead th {\n",
       "        text-align: right;\n",
       "    }\n",
       "</style>\n",
       "<table border=\"1\" class=\"dataframe\">\n",
       "  <thead>\n",
       "    <tr style=\"text-align: right;\">\n",
       "      <th></th>\n",
       "      <th>bus</th>\n",
       "      <th>convertible</th>\n",
       "      <th>coupe</th>\n",
       "      <th>sedan</th>\n",
       "      <th>small</th>\n",
       "      <th>suv</th>\n",
       "      <th>wagon</th>\n",
       "      <th>auto</th>\n",
       "      <th>manual</th>\n",
       "      <th>unknown_</th>\n",
       "      <th>...</th>\n",
       "      <th>sonstige_autos</th>\n",
       "      <th>subaru</th>\n",
       "      <th>suzuki</th>\n",
       "      <th>toyota</th>\n",
       "      <th>trabant</th>\n",
       "      <th>volkswagen</th>\n",
       "      <th>volvo</th>\n",
       "      <th>no</th>\n",
       "      <th>unknown</th>\n",
       "      <th>yes</th>\n",
       "    </tr>\n",
       "  </thead>\n",
       "  <tbody>\n",
       "    <tr>\n",
       "      <td>0</td>\n",
       "      <td>0.0</td>\n",
       "      <td>0.0</td>\n",
       "      <td>0.0</td>\n",
       "      <td>0.0</td>\n",
       "      <td>0.0</td>\n",
       "      <td>1.0</td>\n",
       "      <td>0.0</td>\n",
       "      <td>1.0</td>\n",
       "      <td>0.0</td>\n",
       "      <td>0.0</td>\n",
       "      <td>...</td>\n",
       "      <td>0.0</td>\n",
       "      <td>0.0</td>\n",
       "      <td>0.0</td>\n",
       "      <td>0.0</td>\n",
       "      <td>0.0</td>\n",
       "      <td>0.0</td>\n",
       "      <td>0.0</td>\n",
       "      <td>0.0</td>\n",
       "      <td>1.0</td>\n",
       "      <td>0.0</td>\n",
       "    </tr>\n",
       "    <tr>\n",
       "      <td>1</td>\n",
       "      <td>0.0</td>\n",
       "      <td>0.0</td>\n",
       "      <td>0.0</td>\n",
       "      <td>0.0</td>\n",
       "      <td>1.0</td>\n",
       "      <td>0.0</td>\n",
       "      <td>0.0</td>\n",
       "      <td>0.0</td>\n",
       "      <td>1.0</td>\n",
       "      <td>0.0</td>\n",
       "      <td>...</td>\n",
       "      <td>0.0</td>\n",
       "      <td>0.0</td>\n",
       "      <td>0.0</td>\n",
       "      <td>0.0</td>\n",
       "      <td>0.0</td>\n",
       "      <td>1.0</td>\n",
       "      <td>0.0</td>\n",
       "      <td>1.0</td>\n",
       "      <td>0.0</td>\n",
       "      <td>0.0</td>\n",
       "    </tr>\n",
       "    <tr>\n",
       "      <td>2</td>\n",
       "      <td>0.0</td>\n",
       "      <td>0.0</td>\n",
       "      <td>0.0</td>\n",
       "      <td>0.0</td>\n",
       "      <td>1.0</td>\n",
       "      <td>0.0</td>\n",
       "      <td>0.0</td>\n",
       "      <td>0.0</td>\n",
       "      <td>1.0</td>\n",
       "      <td>0.0</td>\n",
       "      <td>...</td>\n",
       "      <td>0.0</td>\n",
       "      <td>0.0</td>\n",
       "      <td>0.0</td>\n",
       "      <td>0.0</td>\n",
       "      <td>0.0</td>\n",
       "      <td>0.0</td>\n",
       "      <td>0.0</td>\n",
       "      <td>1.0</td>\n",
       "      <td>0.0</td>\n",
       "      <td>0.0</td>\n",
       "    </tr>\n",
       "    <tr>\n",
       "      <td>3</td>\n",
       "      <td>0.0</td>\n",
       "      <td>0.0</td>\n",
       "      <td>0.0</td>\n",
       "      <td>1.0</td>\n",
       "      <td>0.0</td>\n",
       "      <td>0.0</td>\n",
       "      <td>0.0</td>\n",
       "      <td>0.0</td>\n",
       "      <td>1.0</td>\n",
       "      <td>0.0</td>\n",
       "      <td>...</td>\n",
       "      <td>0.0</td>\n",
       "      <td>0.0</td>\n",
       "      <td>0.0</td>\n",
       "      <td>0.0</td>\n",
       "      <td>0.0</td>\n",
       "      <td>0.0</td>\n",
       "      <td>0.0</td>\n",
       "      <td>0.0</td>\n",
       "      <td>0.0</td>\n",
       "      <td>1.0</td>\n",
       "    </tr>\n",
       "    <tr>\n",
       "      <td>4</td>\n",
       "      <td>0.0</td>\n",
       "      <td>1.0</td>\n",
       "      <td>0.0</td>\n",
       "      <td>0.0</td>\n",
       "      <td>0.0</td>\n",
       "      <td>0.0</td>\n",
       "      <td>0.0</td>\n",
       "      <td>0.0</td>\n",
       "      <td>1.0</td>\n",
       "      <td>0.0</td>\n",
       "      <td>...</td>\n",
       "      <td>0.0</td>\n",
       "      <td>0.0</td>\n",
       "      <td>0.0</td>\n",
       "      <td>0.0</td>\n",
       "      <td>0.0</td>\n",
       "      <td>0.0</td>\n",
       "      <td>0.0</td>\n",
       "      <td>1.0</td>\n",
       "      <td>0.0</td>\n",
       "      <td>0.0</td>\n",
       "    </tr>\n",
       "  </tbody>\n",
       "</table>\n",
       "<p>5 rows × 308 columns</p>\n",
       "</div>"
      ],
      "text/plain": [
       "   bus  convertible  coupe  sedan  small  suv  wagon  auto  manual  unknown_  \\\n",
       "0  0.0          0.0    0.0    0.0    0.0  1.0    0.0   1.0     0.0       0.0   \n",
       "1  0.0          0.0    0.0    0.0    1.0  0.0    0.0   0.0     1.0       0.0   \n",
       "2  0.0          0.0    0.0    0.0    1.0  0.0    0.0   0.0     1.0       0.0   \n",
       "3  0.0          0.0    0.0    1.0    0.0  0.0    0.0   0.0     1.0       0.0   \n",
       "4  0.0          1.0    0.0    0.0    0.0  0.0    0.0   0.0     1.0       0.0   \n",
       "\n",
       "   ...  sonstige_autos  subaru  suzuki  toyota  trabant  volkswagen  volvo  \\\n",
       "0  ...             0.0     0.0     0.0     0.0      0.0         0.0    0.0   \n",
       "1  ...             0.0     0.0     0.0     0.0      0.0         1.0    0.0   \n",
       "2  ...             0.0     0.0     0.0     0.0      0.0         0.0    0.0   \n",
       "3  ...             0.0     0.0     0.0     0.0      0.0         0.0    0.0   \n",
       "4  ...             0.0     0.0     0.0     0.0      0.0         0.0    0.0   \n",
       "\n",
       "    no  unknown  yes  \n",
       "0  0.0      1.0  0.0  \n",
       "1  1.0      0.0  0.0  \n",
       "2  1.0      0.0  0.0  \n",
       "3  0.0      0.0  1.0  \n",
       "4  1.0      0.0  0.0  \n",
       "\n",
       "[5 rows x 308 columns]"
      ]
     },
     "execution_count": 70,
     "metadata": {},
     "output_type": "execute_result"
    }
   ],
   "source": [
    "ohe = OneHotEncoder()\n",
    "features_ohe = ohe.fit_transform(features[list_columns_cat]).toarray()\n",
    "features_ohe = pd.DataFrame(features_ohe, columns=[j for i in ohe.categories_ for j in i])\n",
    "features_ohe.head()"
   ]
  },
  {
   "cell_type": "markdown",
   "metadata": {},
   "source": [
    "Объединим закодированную таблицу с основной для Линейной регрессии:"
   ]
  },
  {
   "cell_type": "code",
   "execution_count": 71,
   "metadata": {},
   "outputs": [],
   "source": [
    "features_ohe = features.join(features_ohe)\n",
    "features_ohe = features_ohe.drop(list_columns_cat, axis=1)"
   ]
  },
  {
   "cell_type": "markdown",
   "metadata": {},
   "source": [
    "Отмасштабируем признаки:"
   ]
  },
  {
   "cell_type": "code",
   "execution_count": 72,
   "metadata": {},
   "outputs": [],
   "source": [
    "#list_oper = ['RegistrationYear', 'Power', 'Kilometer', 'RegistrationMonth']\n",
    "#scaler = StandardScaler()\n",
    "#scaler.fit(features_ohe[list_oper])\n",
    "\n",
    "#features_ohe[list_oper] = scaler.transform(features_ohe[list_oper])"
   ]
  },
  {
   "cell_type": "code",
   "execution_count": 73,
   "metadata": {
    "scrolled": true
   },
   "outputs": [
    {
     "data": {
      "text/html": [
       "<div>\n",
       "<style scoped>\n",
       "    .dataframe tbody tr th:only-of-type {\n",
       "        vertical-align: middle;\n",
       "    }\n",
       "\n",
       "    .dataframe tbody tr th {\n",
       "        vertical-align: top;\n",
       "    }\n",
       "\n",
       "    .dataframe thead th {\n",
       "        text-align: right;\n",
       "    }\n",
       "</style>\n",
       "<table border=\"1\" class=\"dataframe\">\n",
       "  <thead>\n",
       "    <tr style=\"text-align: right;\">\n",
       "      <th></th>\n",
       "      <th>RegistrationYear</th>\n",
       "      <th>Power</th>\n",
       "      <th>Kilometer</th>\n",
       "      <th>RegistrationMonth</th>\n",
       "      <th>bus</th>\n",
       "      <th>convertible</th>\n",
       "      <th>coupe</th>\n",
       "      <th>sedan</th>\n",
       "      <th>small</th>\n",
       "      <th>suv</th>\n",
       "      <th>...</th>\n",
       "      <th>sonstige_autos</th>\n",
       "      <th>subaru</th>\n",
       "      <th>suzuki</th>\n",
       "      <th>toyota</th>\n",
       "      <th>trabant</th>\n",
       "      <th>volkswagen</th>\n",
       "      <th>volvo</th>\n",
       "      <th>no</th>\n",
       "      <th>unknown</th>\n",
       "      <th>yes</th>\n",
       "    </tr>\n",
       "  </thead>\n",
       "  <tbody>\n",
       "    <tr>\n",
       "      <td>0</td>\n",
       "      <td>2004</td>\n",
       "      <td>163</td>\n",
       "      <td>125000</td>\n",
       "      <td>8</td>\n",
       "      <td>0.0</td>\n",
       "      <td>0.0</td>\n",
       "      <td>0.0</td>\n",
       "      <td>0.0</td>\n",
       "      <td>0.0</td>\n",
       "      <td>1.0</td>\n",
       "      <td>...</td>\n",
       "      <td>0.0</td>\n",
       "      <td>0.0</td>\n",
       "      <td>0.0</td>\n",
       "      <td>0.0</td>\n",
       "      <td>0.0</td>\n",
       "      <td>0.0</td>\n",
       "      <td>0.0</td>\n",
       "      <td>0.0</td>\n",
       "      <td>1.0</td>\n",
       "      <td>0.0</td>\n",
       "    </tr>\n",
       "    <tr>\n",
       "      <td>1</td>\n",
       "      <td>2001</td>\n",
       "      <td>75</td>\n",
       "      <td>150000</td>\n",
       "      <td>6</td>\n",
       "      <td>0.0</td>\n",
       "      <td>0.0</td>\n",
       "      <td>0.0</td>\n",
       "      <td>0.0</td>\n",
       "      <td>1.0</td>\n",
       "      <td>0.0</td>\n",
       "      <td>...</td>\n",
       "      <td>0.0</td>\n",
       "      <td>0.0</td>\n",
       "      <td>0.0</td>\n",
       "      <td>0.0</td>\n",
       "      <td>0.0</td>\n",
       "      <td>1.0</td>\n",
       "      <td>0.0</td>\n",
       "      <td>1.0</td>\n",
       "      <td>0.0</td>\n",
       "      <td>0.0</td>\n",
       "    </tr>\n",
       "    <tr>\n",
       "      <td>2</td>\n",
       "      <td>2008</td>\n",
       "      <td>69</td>\n",
       "      <td>90000</td>\n",
       "      <td>7</td>\n",
       "      <td>0.0</td>\n",
       "      <td>0.0</td>\n",
       "      <td>0.0</td>\n",
       "      <td>0.0</td>\n",
       "      <td>1.0</td>\n",
       "      <td>0.0</td>\n",
       "      <td>...</td>\n",
       "      <td>0.0</td>\n",
       "      <td>0.0</td>\n",
       "      <td>0.0</td>\n",
       "      <td>0.0</td>\n",
       "      <td>0.0</td>\n",
       "      <td>0.0</td>\n",
       "      <td>0.0</td>\n",
       "      <td>1.0</td>\n",
       "      <td>0.0</td>\n",
       "      <td>0.0</td>\n",
       "    </tr>\n",
       "    <tr>\n",
       "      <td>3</td>\n",
       "      <td>1995</td>\n",
       "      <td>102</td>\n",
       "      <td>150000</td>\n",
       "      <td>10</td>\n",
       "      <td>0.0</td>\n",
       "      <td>0.0</td>\n",
       "      <td>0.0</td>\n",
       "      <td>1.0</td>\n",
       "      <td>0.0</td>\n",
       "      <td>0.0</td>\n",
       "      <td>...</td>\n",
       "      <td>0.0</td>\n",
       "      <td>0.0</td>\n",
       "      <td>0.0</td>\n",
       "      <td>0.0</td>\n",
       "      <td>0.0</td>\n",
       "      <td>0.0</td>\n",
       "      <td>0.0</td>\n",
       "      <td>0.0</td>\n",
       "      <td>0.0</td>\n",
       "      <td>1.0</td>\n",
       "    </tr>\n",
       "    <tr>\n",
       "      <td>4</td>\n",
       "      <td>2004</td>\n",
       "      <td>109</td>\n",
       "      <td>150000</td>\n",
       "      <td>8</td>\n",
       "      <td>0.0</td>\n",
       "      <td>1.0</td>\n",
       "      <td>0.0</td>\n",
       "      <td>0.0</td>\n",
       "      <td>0.0</td>\n",
       "      <td>0.0</td>\n",
       "      <td>...</td>\n",
       "      <td>0.0</td>\n",
       "      <td>0.0</td>\n",
       "      <td>0.0</td>\n",
       "      <td>0.0</td>\n",
       "      <td>0.0</td>\n",
       "      <td>0.0</td>\n",
       "      <td>0.0</td>\n",
       "      <td>1.0</td>\n",
       "      <td>0.0</td>\n",
       "      <td>0.0</td>\n",
       "    </tr>\n",
       "  </tbody>\n",
       "</table>\n",
       "<p>5 rows × 312 columns</p>\n",
       "</div>"
      ],
      "text/plain": [
       "   RegistrationYear  Power  Kilometer  RegistrationMonth  bus  convertible  \\\n",
       "0              2004    163     125000                  8  0.0          0.0   \n",
       "1              2001     75     150000                  6  0.0          0.0   \n",
       "2              2008     69      90000                  7  0.0          0.0   \n",
       "3              1995    102     150000                 10  0.0          0.0   \n",
       "4              2004    109     150000                  8  0.0          1.0   \n",
       "\n",
       "   coupe  sedan  small  suv  ...  sonstige_autos  subaru  suzuki  toyota  \\\n",
       "0    0.0    0.0    0.0  1.0  ...             0.0     0.0     0.0     0.0   \n",
       "1    0.0    0.0    1.0  0.0  ...             0.0     0.0     0.0     0.0   \n",
       "2    0.0    0.0    1.0  0.0  ...             0.0     0.0     0.0     0.0   \n",
       "3    0.0    1.0    0.0  0.0  ...             0.0     0.0     0.0     0.0   \n",
       "4    0.0    0.0    0.0  0.0  ...             0.0     0.0     0.0     0.0   \n",
       "\n",
       "   trabant  volkswagen  volvo   no  unknown  yes  \n",
       "0      0.0         0.0    0.0  0.0      1.0  0.0  \n",
       "1      0.0         1.0    0.0  1.0      0.0  0.0  \n",
       "2      0.0         0.0    0.0  1.0      0.0  0.0  \n",
       "3      0.0         0.0    0.0  0.0      0.0  1.0  \n",
       "4      0.0         0.0    0.0  1.0      0.0  0.0  \n",
       "\n",
       "[5 rows x 312 columns]"
      ]
     },
     "execution_count": 73,
     "metadata": {},
     "output_type": "execute_result"
    }
   ],
   "source": [
    "features_ohe.head()"
   ]
  },
  {
   "cell_type": "code",
   "execution_count": 74,
   "metadata": {},
   "outputs": [],
   "source": [
    "oe = OrdinalEncoder()"
   ]
  },
  {
   "cell_type": "code",
   "execution_count": 75,
   "metadata": {
    "scrolled": true
   },
   "outputs": [
    {
     "data": {
      "text/html": [
       "<div>\n",
       "<style scoped>\n",
       "    .dataframe tbody tr th:only-of-type {\n",
       "        vertical-align: middle;\n",
       "    }\n",
       "\n",
       "    .dataframe tbody tr th {\n",
       "        vertical-align: top;\n",
       "    }\n",
       "\n",
       "    .dataframe thead th {\n",
       "        text-align: right;\n",
       "    }\n",
       "</style>\n",
       "<table border=\"1\" class=\"dataframe\">\n",
       "  <thead>\n",
       "    <tr style=\"text-align: right;\">\n",
       "      <th></th>\n",
       "      <th>RegistrationYear</th>\n",
       "      <th>Power</th>\n",
       "      <th>Kilometer</th>\n",
       "      <th>RegistrationMonth</th>\n",
       "      <th>VehicleType</th>\n",
       "      <th>Gearbox</th>\n",
       "      <th>Model</th>\n",
       "      <th>FuelType</th>\n",
       "      <th>Brand</th>\n",
       "      <th>NotRepaired</th>\n",
       "    </tr>\n",
       "  </thead>\n",
       "  <tbody>\n",
       "    <tr>\n",
       "      <td>0</td>\n",
       "      <td>2004</td>\n",
       "      <td>163</td>\n",
       "      <td>125000</td>\n",
       "      <td>8</td>\n",
       "      <td>5.0</td>\n",
       "      <td>0.0</td>\n",
       "      <td>117.0</td>\n",
       "      <td>2.0</td>\n",
       "      <td>14.0</td>\n",
       "      <td>1.0</td>\n",
       "    </tr>\n",
       "    <tr>\n",
       "      <td>1</td>\n",
       "      <td>2001</td>\n",
       "      <td>75</td>\n",
       "      <td>150000</td>\n",
       "      <td>6</td>\n",
       "      <td>4.0</td>\n",
       "      <td>1.0</td>\n",
       "      <td>116.0</td>\n",
       "      <td>5.0</td>\n",
       "      <td>38.0</td>\n",
       "      <td>0.0</td>\n",
       "    </tr>\n",
       "    <tr>\n",
       "      <td>2</td>\n",
       "      <td>2008</td>\n",
       "      <td>69</td>\n",
       "      <td>90000</td>\n",
       "      <td>7</td>\n",
       "      <td>4.0</td>\n",
       "      <td>1.0</td>\n",
       "      <td>101.0</td>\n",
       "      <td>2.0</td>\n",
       "      <td>31.0</td>\n",
       "      <td>0.0</td>\n",
       "    </tr>\n",
       "  </tbody>\n",
       "</table>\n",
       "</div>"
      ],
      "text/plain": [
       "   RegistrationYear  Power  Kilometer  RegistrationMonth  VehicleType  \\\n",
       "0              2004    163     125000                  8          5.0   \n",
       "1              2001     75     150000                  6          4.0   \n",
       "2              2008     69      90000                  7          4.0   \n",
       "\n",
       "   Gearbox  Model  FuelType  Brand  NotRepaired  \n",
       "0      0.0  117.0       2.0   14.0          1.0  \n",
       "1      1.0  116.0       5.0   38.0          0.0  \n",
       "2      1.0  101.0       2.0   31.0          0.0  "
      ]
     },
     "execution_count": 75,
     "metadata": {},
     "output_type": "execute_result"
    }
   ],
   "source": [
    "features_oe = pd.DataFrame(oe.fit_transform(features[list_columns_cat]), columns=list_columns_cat)\n",
    "features_oe = features.drop(list_columns_cat, axis=1).join(features_oe)\n",
    "features_oe.head(3)"
   ]
  },
  {
   "cell_type": "markdown",
   "metadata": {},
   "source": [
    "Разобъём выборку на трэйн и тест:"
   ]
  },
  {
   "cell_type": "code",
   "execution_count": 76,
   "metadata": {},
   "outputs": [],
   "source": [
    "features_train, features_test, target_train, target_test = train_test_split(features, target, test_size=0.2, random_state=12345)"
   ]
  },
  {
   "cell_type": "code",
   "execution_count": 77,
   "metadata": {},
   "outputs": [],
   "source": [
    "features_train_valid_ohe, features_test_ohe, target_train_valid_ohe, target_test_ohe = train_test_split(features_ohe, target, test_size=0.2, random_state=12345)\n",
    "features_train_ohe, features_valid_ohe, target_train_ohe, target_valid_ohe = train_test_split(features_train_valid_ohe, target_train_valid_ohe, test_size=0.2, random_state=12345)"
   ]
  },
  {
   "cell_type": "code",
   "execution_count": 78,
   "metadata": {},
   "outputs": [],
   "source": [
    "features_train_oe, features_test_oe, target_train_oe, target_test_oe = train_test_split(features_oe, target, test_size=0.2, random_state=12345)"
   ]
  },
  {
   "cell_type": "markdown",
   "metadata": {},
   "source": [
    "Отмасштабируем признаки:"
   ]
  },
  {
   "cell_type": "code",
   "execution_count": 79,
   "metadata": {},
   "outputs": [],
   "source": [
    "list_oper = ['RegistrationYear', 'Power', 'Kilometer', 'RegistrationMonth']\n",
    "scaler = StandardScaler()\n",
    "scaler.fit(features_train_valid_ohe[list_oper])\n",
    "\n",
    "#features_train_valid_ohe = features_train_valid_ohe.copy()\n",
    "features_train_ohe = features_train_ohe.copy()\n",
    "features_valid_ohe = features_valid_ohe.copy()\n",
    "features_test_ohe = features_test_ohe.copy()\n",
    "\n",
    "#features_train_valid_ohe[:, list_oper] = scaler.transform(features_train_valid_ohe[list_oper])\n",
    "features_train_ohe.loc[:, list_oper] = scaler.transform(features_train_ohe[list_oper])\n",
    "features_valid_ohe.loc[:, list_oper] = scaler.transform(features_valid_ohe[list_oper])\n",
    "features_test_ohe.loc[:, list_oper] = scaler.transform(features_test_ohe[list_oper])"
   ]
  },
  {
   "cell_type": "markdown",
   "metadata": {},
   "source": [
    "Подготовим score для GridSearchCV:"
   ]
  },
  {
   "cell_type": "code",
   "execution_count": 80,
   "metadata": {},
   "outputs": [],
   "source": [
    "mean_squared_error_gs = make_scorer(mean_squared_error, greater_is_better=False)"
   ]
  },
  {
   "cell_type": "markdown",
   "metadata": {},
   "source": [
    "Сначала пообучаем и посмотрим на результаты Линейной регрессии:  \n",
    "Подберём лучшие параметры с грид сёрч:"
   ]
  },
  {
   "cell_type": "code",
   "execution_count": 81,
   "metadata": {
    "scrolled": true
   },
   "outputs": [],
   "source": [
    "param_grid_linr = {'fit_intercept':[True,False], 'normalize':[True,False]}\n",
    "gs_linr = GridSearchCV(LinearRegression(), param_grid=param_grid_linr, scoring=mean_squared_error_gs, cv=5)\n",
    "gs_linr = GridSearchCV(LinearRegression(), param_grid=param_grid_linr, scoring='neg_mean_squared_error', cv=5)\n",
    "gs_linr.fit(features_train_valid_ohe, target_train_valid_ohe)"
   ]
  },
  {
   "cell_type": "code",
   "execution_count": 82,
   "metadata": {},
   "outputs": [],
   "source": [
    "best_lr = gs_linr.best_params_\n",
    "score_lr = (np.abs(gs_linr.best_score_)) ** 0.5\n",
    "print(f'Лучшие параметры = {best_lr}')\n",
    "print('Качество модели на кросс валидации = {:.5}'.format(score_lr))"
   ]
  },
  {
   "cell_type": "markdown",
   "metadata": {},
   "source": [
    "Лучшие параметры = {'fit_intercept': False, 'normalize': True}  \n",
    "Качество модели на кросс валидации = 1.6942e+10"
   ]
  },
  {
   "cell_type": "code",
   "execution_count": 83,
   "metadata": {},
   "outputs": [],
   "source": [
    "gs_linr.cv_results_ "
   ]
  },
  {
   "cell_type": "markdown",
   "metadata": {},
   "source": [
    "{'mean_fit_time': array([27.51791973, 29.27943835, 29.08306026, 28.24139051]),  \n",
    "  'std_fit_time': array([1.48844907, 1.37919852, 0.95364016, 0.83394658]),  \n",
    "  'mean_score_time': array([0.08591247, 0.09931817, 0.09950018, 0.12295127]),  \n",
    "  'std_score_time': array([0.03701156, 0.05221231, 0.0126849 , 0.03003295]),  \n",
    "  'param_fit_intercept': masked_array(data=[True, True, False, False],  \n",
    "                         mask=[False, False, False, False],  \n",
    "                         fill_value='?',  \n",
    "                         dtype=object),  \n",
    "  'param_normalize': masked_array(data=[True, False, True, False],  \n",
    "                     mask=[False, False, False, False],  \n",
    "                     fill_value='?',  \n",
    "                     dtype=object),  \n",
    "  'params': [{'fit_intercept': True, 'normalize': True},  \n",
    "             {'fit_intercept': True, 'normalize': False},  \n",
    "             {'fit_intercept': False, 'normalize': True},  \n",
    "             {'fit_intercept': False, 'normalize': False}],  \n",
    "  'split0_test_score': array([-7186307.27939924, -7174497.8420564 , -7174500.26365051,  \n",
    "                              -7174500.26365051]),  \n",
    "  'split1_test_score': array([-8.05352726e+32, -1.37821691e+22, -1.43514327e+21, -1.43514327e+21]),  \n",
    "  'split2_test_score': array([-7476436.22237167, -7468044.76828168, -7468026.2267653 ,  \n",
    "                              -7468026.2267653 ]),  \n",
    "  'split3_test_score': array([-7326656.20195476, -7314296.51412867, -7314250.54899122,  \n",
    "                              -7314250.54899122]),  \n",
    "  'split4_test_score': array([-7196858.68719317, -7190734.77325203, -7190836.83825909,  \n",
    "                              -7190836.83825909]),  \n",
    "  'mean_test_score': array([-1.61071989e+32, -2.75645854e+21, -2.87031227e+20, -2.87031227e+20]),  \n",
    "  'std_test_score': array([3.22142174e+32, 5.51288618e+21, 5.74059237e+20, 5.74059237e+20]),  \n",
    "  'rank_test_score': array([4, 3, 1, 1], dtype=int32)}  "
   ]
  },
  {
   "cell_type": "markdown",
   "metadata": {},
   "source": [
    "Попробуем пообучать регрессию бустингом"
   ]
  },
  {
   "cell_type": "code",
   "execution_count": 85,
   "metadata": {
    "scrolled": true
   },
   "outputs": [],
   "source": [
    "%%time\n",
    "model_lr = LinearRegression(fit_intercept=False, normalize=True)\n",
    "pred = np.zeros(len(target_train_ohe)) ### почему валидационная?\n",
    "iters = 1\n",
    "lerning_rate = 1\n",
    "list_model_lr = [i for i in range(iters)]\n",
    "list_model_lr.append(model_lr.fit(features_train_ohe, target_train_ohe))  \n",
    "for i in range(iters):\n",
    "    pred += (model_lr.predict(features_train_ohe) * lerning_rate) ### почему валидационная?\n",
    "    error = target_train_ohe - pred ### почему валидационная?\n",
    "    model_lr = model_lr.fit(features_train_ohe, error) ### почему валидационная?\n",
    "    list_model_lr[i] = model_lr"
   ]
  },
  {
   "cell_type": "markdown",
   "metadata": {},
   "source": [
    "CPU times: user 36.3 s, sys: 12.8 s, total: 49.2 s  \n",
    "Wall time: 49.3 s  "
   ]
  },
  {
   "cell_type": "code",
   "execution_count": 86,
   "metadata": {
    "scrolled": true
   },
   "outputs": [],
   "source": [
    "%%time\n",
    "pred = np.zeros(len(target_valid_ohe))\n",
    "for i in list_model_lr:\n",
    "    pred += i.predict(features_valid_ohe)\n",
    "print(f'RMSE валидации после {iters} итераций с шагом {lerning_rate} = {np.round(mean_squared_error(target_valid_ohe, pred) ** 0.5)}')"
   ]
  },
  {
   "cell_type": "markdown",
   "metadata": {},
   "source": [
    "RMSE валидации после 1 итераций с шагом 1 = 6240.0  \n",
    "CPU times: user 227 ms, sys: 175 ms, total: 401 ms  \n",
    "Wall time: 393 ms"
   ]
  },
  {
   "cell_type": "code",
   "execution_count": 87,
   "metadata": {
    "scrolled": true
   },
   "outputs": [],
   "source": [
    "%%time\n",
    "pred = np.zeros(len(target_test_ohe))\n",
    "for i in list_model_lr:\n",
    "    pred += i.predict(features_test_ohe)\n",
    "print(f'RMSE теста после {iters} итераций с шагом {lerning_rate} = {np.round(mean_squared_error(target_test_ohe, pred) ** 0.5)}')"
   ]
  },
  {
   "cell_type": "markdown",
   "metadata": {},
   "source": [
    "RMSE теста после 1 итераций с шагом 1 = 6215.0  \n",
    "CPU times: user 280 ms, sys: 168 ms, total: 447 ms  \n",
    "Wall time: 413 ms"
   ]
  },
  {
   "cell_type": "code",
   "execution_count": 88,
   "metadata": {
    "scrolled": true
   },
   "outputs": [],
   "source": [
    "%%time\n",
    "model_lr = LinearRegression(fit_intercept=False, normalize=True)\n",
    "pred = np.zeros(len(target_train_ohe))\n",
    "iters = 2\n",
    "lerning_rate = 1\n",
    "list_model_lr = [i for i in range(iters)]\n",
    "list_model_lr.append(model_lr.fit(features_train_ohe, target_train_ohe))  \n",
    "for i in range(iters):\n",
    "    pred += (model_lr.predict(features_train_ohe) * lerning_rate)\n",
    "    error = target_train_ohe - pred\n",
    "    model_lr = model_lr.fit(features_train_ohe, error)\n",
    "    list_model_lr[i] = model_lr"
   ]
  },
  {
   "cell_type": "markdown",
   "metadata": {},
   "source": [
    "CPU times: user 51.3 s, sys: 20 s, total: 1min 11s  \n",
    "Wall time: 1min 11s"
   ]
  },
  {
   "cell_type": "code",
   "execution_count": 89,
   "metadata": {
    "scrolled": true
   },
   "outputs": [],
   "source": [
    "%%time\n",
    "pred = np.zeros(len(target_valid_ohe))\n",
    "for i in list_model_lr:\n",
    "    pred += i.predict(features_valid_ohe)\n",
    "print(f'RMSE валидации после {iters} итераций с шагом {lerning_rate} = {np.round(mean_squared_error(target_valid_ohe, pred) ** 0.5)}')"
   ]
  },
  {
   "cell_type": "markdown",
   "metadata": {},
   "source": [
    "RMSE валидации после 2 итераций с шагом 1 = 6240.0  \n",
    "CPU times: user 283 ms, sys: 169 ms, total: 452 ms  \n",
    "Wall time: 404 ms"
   ]
  },
  {
   "cell_type": "code",
   "execution_count": 90,
   "metadata": {
    "scrolled": true
   },
   "outputs": [],
   "source": [
    "%%time\n",
    "pred = np.zeros(len(target_test_ohe))\n",
    "for i in list_model_lr:\n",
    "    pred += i.predict(features_test_ohe)\n",
    "print(f'RMSE теста после {iters} итераций с шагом {lerning_rate} = {np.round(mean_squared_error(target_test_ohe, pred) ** 0.5)}')"
   ]
  },
  {
   "cell_type": "markdown",
   "metadata": {},
   "source": [
    "RMSE теста после 2 итераций с шагом 1 = 6216.0  \n",
    "CPU times: user 284 ms, sys: 198 ms, total: 482 ms  \n",
    "Wall time: 417 ms  "
   ]
  },
  {
   "cell_type": "code",
   "execution_count": 91,
   "metadata": {},
   "outputs": [],
   "source": [
    "%%time\n",
    "model_lr = LinearRegression(fit_intercept=False, normalize=True)\n",
    "pred = np.zeros(len(target_train_ohe))\n",
    "iters = 2\n",
    "lerning_rate = 1.5\n",
    "list_model_lr = [i for i in range(iters)]\n",
    "list_model_lr.append(model_lr.fit(features_train_ohe, target_train_ohe))  \n",
    "for i in range(iters):\n",
    "    pred += (model_lr.predict(features_train_ohe) * lerning_rate)\n",
    "    error = target_train_ohe - pred\n",
    "    model_lr = model_lr.fit(features_train_ohe, error)\n",
    "    list_model_lr[i] = model_lr"
   ]
  },
  {
   "cell_type": "markdown",
   "metadata": {},
   "source": [
    "CPU times: user 51.3 s, sys: 19.6 s, total: 1min 10s  \n",
    "Wall time: 1min 11s"
   ]
  },
  {
   "cell_type": "code",
   "execution_count": 92,
   "metadata": {
    "scrolled": true
   },
   "outputs": [],
   "source": [
    "%%time\n",
    "pred = np.zeros(len(target_valid_ohe))\n",
    "for i in list_model_lr:\n",
    "    pred += i.predict(features_valid_ohe)\n",
    "print(f'RMSE валидации после {iters} итераций с шагом {lerning_rate} = {np.round(mean_squared_error(target_valid_ohe, pred) ** 0.5)}')"
   ]
  },
  {
   "cell_type": "markdown",
   "metadata": {},
   "source": [
    "RMSE валидации после 2 итераций с шагом 1.5 = 3059.0  \n",
    "CPU times: user 245 ms, sys: 218 ms, total: 463 ms  \n",
    "Wall time: 412 ms"
   ]
  },
  {
   "cell_type": "code",
   "execution_count": 93,
   "metadata": {
    "scrolled": true
   },
   "outputs": [],
   "source": [
    "%%time\n",
    "pred = np.zeros(len(target_test_ohe))\n",
    "for i in list_model_lr:\n",
    "    pred += i.predict(features_test_ohe)\n",
    "print(f'RMSE теста после {iters} итераций с шагом {lerning_rate} = {np.round(mean_squared_error(target_test_ohe, pred) ** 0.5)}')"
   ]
  },
  {
   "cell_type": "markdown",
   "metadata": {},
   "source": [
    "RMSE теста после 2 итераций с шагом 1.5 = 3032.0  \n",
    "CPU times: user 326 ms, sys: 178 ms, total: 504 ms  \n",
    "Wall time: 592 ms"
   ]
  },
  {
   "cell_type": "code",
   "execution_count": 94,
   "metadata": {
    "scrolled": true
   },
   "outputs": [],
   "source": [
    "%%time\n",
    "model_lr = LinearRegression(fit_intercept=False, normalize=True)\n",
    "pred = np.zeros(len(target_train_ohe))\n",
    "iters = 3\n",
    "lerning_rate = 1\n",
    "list_model_lr = [i for i in range(iters)]\n",
    "list_model_lr.append(model_lr.fit(features_train_ohe, target_train_ohe))  \n",
    "for i in range(iters):\n",
    "    pred += (model_lr.predict(features_train_ohe) * lerning_rate)\n",
    "    error = target_train_ohe - pred\n",
    "    model_lr = model_lr.fit(features_train_ohe, error)\n",
    "    list_model_lr[i] = model_lr"
   ]
  },
  {
   "cell_type": "markdown",
   "metadata": {},
   "source": [
    "CPU times: user 1min 10s, sys: 28.5 s, total: 1min 38s  \n",
    "Wall time: 1min 38s"
   ]
  },
  {
   "cell_type": "code",
   "execution_count": 95,
   "metadata": {},
   "outputs": [],
   "source": [
    "%%time\n",
    "pred = np.zeros(len(target_valid_ohe))\n",
    "for i in list_model_lr:\n",
    "    pred += i.predict(features_valid_ohe)\n",
    "print(f'RMSE валидации после {iters} итераций с шагом {lerning_rate} = {np.round(mean_squared_error(target_valid_ohe, pred) ** 0.5)}')"
   ]
  },
  {
   "cell_type": "markdown",
   "metadata": {},
   "source": [
    "RMSE валидации после 3 итераций с шагом 1 = 6239.0  \n",
    "CPU times: user 295 ms, sys: 245 ms, total: 539 ms  \n",
    "Wall time: 500 ms"
   ]
  },
  {
   "cell_type": "code",
   "execution_count": 96,
   "metadata": {
    "scrolled": false
   },
   "outputs": [],
   "source": [
    "%%time\n",
    "pred = np.zeros(len(target_test_ohe))\n",
    "for i in list_model_lr:\n",
    "    pred += i.predict(features_test_ohe)\n",
    "print(f'RMSE теста после {iters} итераций с шагом {lerning_rate} = {np.round(mean_squared_error(target_test_ohe, pred) ** 0.5)}')"
   ]
  },
  {
   "cell_type": "markdown",
   "metadata": {},
   "source": [
    "RMSE теста после 3 итераций с шагом 1 = 6214.0  \n",
    "CPU times: user 403 ms, sys: 356 ms, total: 759 ms  \n",
    "Wall time: 795 ms"
   ]
  },
  {
   "cell_type": "code",
   "execution_count": 97,
   "metadata": {},
   "outputs": [],
   "source": [
    "%%time\n",
    "model_lr = LinearRegression(fit_intercept=False, normalize=True)\n",
    "pred = np.zeros(len(target_train_ohe))\n",
    "iters = 20\n",
    "lerning_rate = 1\n",
    "list_model_lr = [i for i in range(iters)]\n",
    "list_model_lr.append(model_lr.fit(features_train_ohe, target_train_ohe))  \n",
    "for i in range(iters):\n",
    "    pred += (model_lr.predict(features_train_ohe) * lerning_rate)\n",
    "    error = target_train_ohe - pred\n",
    "    model_lr = model_lr.fit(features_train_ohe, error)\n",
    "    list_model_lr[i] = model_lr"
   ]
  },
  {
   "cell_type": "markdown",
   "metadata": {},
   "source": [
    "CPU times: user 5min 33s, sys: 2min 16s, total: 7min 49s  \n",
    "Wall time: 7min 50s"
   ]
  },
  {
   "cell_type": "code",
   "execution_count": 98,
   "metadata": {},
   "outputs": [],
   "source": [
    "%%time\n",
    "pred = np.zeros(len(target_valid_ohe))\n",
    "for i in list_model_lr:\n",
    "    pred += i.predict(features_valid_ohe)\n",
    "print(f'RMSE валидации после {iters} итераций с шагом {lerning_rate} = {np.round(mean_squared_error(target_valid_ohe, pred) ** 0.5)}')"
   ]
  },
  {
   "cell_type": "markdown",
   "metadata": {},
   "source": [
    "RMSE валидации после 20 итераций с шагом 1 = 6238.0  \n",
    "CPU times: user 1.47 s, sys: 1.13 s, total: 2.6 s  \n",
    "Wall time: 2.6 s"
   ]
  },
  {
   "cell_type": "code",
   "execution_count": 99,
   "metadata": {},
   "outputs": [],
   "source": [
    "%%time\n",
    "pred = np.zeros(len(target_test_ohe))\n",
    "for i in list_model_lr:\n",
    "    pred += i.predict(features_test_ohe)\n",
    "print(f'RMSE теста после {iters} итераций с шагом {lerning_rate} = {np.round(mean_squared_error(target_test_ohe, pred) ** 0.5)}')"
   ]
  },
  {
   "cell_type": "markdown",
   "metadata": {},
   "source": [
    "RMSE теста после 20 итераций с шагом 1 = 6214.0  \n",
    "CPU times: user 1.78 s, sys: 1.04 s, total: 2.82 s  \n",
    "Wall time: 2.8 s"
   ]
  },
  {
   "cell_type": "code",
   "execution_count": 100,
   "metadata": {},
   "outputs": [],
   "source": [
    "%%time\n",
    "model_lr = LinearRegression(fit_intercept=False, normalize=True)\n",
    "pred = np.zeros(len(target_train_ohe))\n",
    "iters = 20\n",
    "lerning_rate = 1.5\n",
    "list_model_lr = [i for i in range(iters)]\n",
    "list_model_lr.append(model_lr.fit(features_train_ohe, target_train_ohe))  \n",
    "for i in range(iters):\n",
    "    pred += (model_lr.predict(features_train_ohe) * lerning_rate)\n",
    "    error = target_train_ohe - pred\n",
    "    model_lr = model_lr.fit(features_train_ohe, error)\n",
    "    list_model_lr[i] = model_lr"
   ]
  },
  {
   "cell_type": "markdown",
   "metadata": {},
   "source": [
    "CPU times: user 5min 22s, sys: 1min 34s, total: 6min 57s  \n",
    "Wall time: 6min 59s"
   ]
  },
  {
   "cell_type": "code",
   "execution_count": 101,
   "metadata": {
    "scrolled": true
   },
   "outputs": [],
   "source": [
    "%%time\n",
    "pred = np.zeros(len(target_valid_ohe))\n",
    "for i in list_model_lr:\n",
    "    pred += i.predict(features_valid_ohe)\n",
    "print(f'RMSE валидации после {iters} итераций с шагом {lerning_rate} = {np.round(mean_squared_error(target_valid_ohe, pred) ** 0.5)}')"
   ]
  },
  {
   "cell_type": "markdown",
   "metadata": {},
   "source": [
    "RMSE валидации после 20 итераций с шагом 1.5 = 6232.0  \n",
    "CPU times: user 1.77 s, sys: 1.28 s, total: 3.04 s  \n",
    "Wall time: 3 s"
   ]
  },
  {
   "cell_type": "code",
   "execution_count": 102,
   "metadata": {
    "scrolled": true
   },
   "outputs": [],
   "source": [
    "%%time\n",
    "pred = np.zeros(len(target_test_ohe))\n",
    "for i in list_model_lr:\n",
    "    pred += i.predict(features_test_ohe)\n",
    "print(f'RMSE теста после {iters} итераций с шагом {lerning_rate} = {np.round(mean_squared_error(target_test_ohe, pred) ** 0.5)}')"
   ]
  },
  {
   "cell_type": "markdown",
   "metadata": {},
   "source": [
    "RMSE теста после 20 итераций с шагом 1.5 = 6208.0  \n",
    "CPU times: user 2.16 s, sys: 1.43 s, total: 3.59 s  \n",
    "Wall time: 3.6 s"
   ]
  },
  {
   "cell_type": "markdown",
   "metadata": {},
   "source": [
    "Посмотрим на CatBoostRegressor:  \n",
    "Сначала CV:"
   ]
  },
  {
   "cell_type": "code",
   "execution_count": 103,
   "metadata": {
    "scrolled": true
   },
   "outputs": [],
   "source": [
    "cv_dataset = Pool(data=features_train,\n",
    "                  label=target_train,\n",
    "                  cat_features=list_columns_cat)\n",
    "\n",
    "\n",
    "for j in range(2, 12, 3):\n",
    "    params = {\"iterations\": 100,\n",
    "              \"depth\": j,\n",
    "              \"loss_function\": \"RMSE\",\n",
    "              \"verbose\": False}\n",
    "    scores = cv(cv_dataset,\n",
    "                params,\n",
    "                fold_count=5)\n",
    "    mean_scores = scores['test-RMSE-mean'].mean() ### лучше усреднить\n",
    "    print(f'Глубина {j}, результат = {mean_scores}')"
   ]
  },
  {
   "cell_type": "markdown",
   "metadata": {},
   "source": [
    "Глубина 2, результат = 3405.522886492886  \n",
    "Глубина 5, результат = 3065.131387128507  \n",
    "Глубина 8, результат = 2942.2837834882257  \n",
    "Глубина 11, результат = 2887.5366718724745"
   ]
  },
  {
   "cell_type": "code",
   "execution_count": 104,
   "metadata": {},
   "outputs": [],
   "source": [
    "%%time\n",
    "iters = 100\n",
    "depth = 2\n",
    "model_catboost = CatBoostRegressor(iterations=iters, depth=depth, loss_function='RMSE')\n",
    "model_catboost.fit(features_train, target_train, cat_features=list_columns_cat, verbose=50)"
   ]
  },
  {
   "cell_type": "markdown",
   "metadata": {},
   "source": [
    "0:\tlearn: 4154.6366987\ttotal: 151ms\tremaining: 14.9s  \n",
    "50:\tlearn: 2850.2159344\ttotal: 8.42s\tremaining: 8.09s  \n",
    "99:\tlearn: 2447.9516093\ttotal: 16.6s\tremaining: 0us  \n",
    "CPU times: user 15.5 s, sys: 2.17 s, total: 17.7 s  \n",
    "Wall time: 18.7 s  "
   ]
  },
  {
   "cell_type": "code",
   "execution_count": 105,
   "metadata": {
    "scrolled": true
   },
   "outputs": [],
   "source": [
    "%%time\n",
    "pred = model_catboost.predict(features_test)\n",
    "print(f'RMSE с глубиной {depth} = {np.round(mean_squared_error(target_test_ohe, pred) ** 0.5)}')"
   ]
  },
  {
   "cell_type": "markdown",
   "metadata": {},
   "source": [
    "RMSE с глубиной 2 = 2432.0  \n",
    "CPU times: user 147 ms, sys: 31.2 ms, total: 178 ms  \n",
    "Wall time: 154 ms  "
   ]
  },
  {
   "cell_type": "code",
   "execution_count": 106,
   "metadata": {
    "scrolled": false
   },
   "outputs": [],
   "source": [
    "%%time\n",
    "depth = 8\n",
    "model_catboost = CatBoostRegressor(iterations=iters, depth=depth, loss_function='RMSE')\n",
    "model_catboost.fit(features_train, target_train, cat_features=list_columns_cat, verbose=50)"
   ]
  },
  {
   "cell_type": "markdown",
   "metadata": {},
   "source": [
    "0:\tlearn: 4127.3553542\ttotal: 510ms\tremaining: 50.5s  \n",
    "50:\tlearn: 2223.4900209\ttotal: 23.8s\tremaining: 22.8s  \n",
    "99:\tlearn: 1867.8937414\ttotal: 46.1s\tremaining: 0us  \n",
    "CPU times: user 41 s, sys: 6.22 s, total: 47.3 s  \n",
    "Wall time: 48.2 s  "
   ]
  },
  {
   "cell_type": "code",
   "execution_count": 107,
   "metadata": {},
   "outputs": [],
   "source": [
    "%%time\n",
    "pred = model_catboost.predict(features_test)\n",
    "print(f'RMSE с глубиной {depth} = {np.round(mean_squared_error(target_test_ohe, pred) ** 0.5)}')"
   ]
  },
  {
   "cell_type": "markdown",
   "metadata": {},
   "source": [
    "RMSE с глубиной 8 = 1855.0  \n",
    "CPU times: user 162 ms, sys: 12.3 ms, total: 174 ms  \n",
    "Wall time: 152 ms  "
   ]
  },
  {
   "cell_type": "code",
   "execution_count": 108,
   "metadata": {
    "scrolled": false
   },
   "outputs": [],
   "source": [
    "%%time\n",
    "depth = 11\n",
    "model_catboost = CatBoostRegressor(iterations=iters, depth=depth, loss_function='RMSE')\n",
    "model_catboost.fit(features_train, target_train, cat_features=list_columns_cat, verbose=50)"
   ]
  },
  {
   "cell_type": "markdown",
   "metadata": {},
   "source": [
    "0:\tlearn: 4123.4632372\ttotal: 650ms\tremaining: 1m 4s  \n",
    "50:\tlearn: 2124.4949530\ttotal: 31.5s\tremaining: 30.3s  \n",
    "99:\tlearn: 1774.2106008\ttotal: 1m 1s\tremaining: 0us  \n",
    "CPU times: user 53.9 s, sys: 8.01 s, total: 1min 1s  \n",
    "Wall time: 1min 3s  "
   ]
  },
  {
   "cell_type": "code",
   "execution_count": 109,
   "metadata": {
    "scrolled": true
   },
   "outputs": [],
   "source": [
    "%%time\n",
    "pred = model_catboost.predict(features_test)\n",
    "print(f'RMSE с глубиной {depth} = {np.round(mean_squared_error(target_test_ohe, pred) ** 0.5)}')"
   ]
  },
  {
   "cell_type": "markdown",
   "metadata": {},
   "source": [
    "RMSE с глубиной 11 = 1770.0  \n",
    "CPU times: user 231 ms, sys: 2.81 ms, total: 234 ms  \n",
    "Wall time: 234 ms  "
   ]
  },
  {
   "cell_type": "code",
   "execution_count": 110,
   "metadata": {},
   "outputs": [],
   "source": [
    "del cars\n",
    "del scaler\n",
    "del features\n",
    "del target\n",
    "del features_test\n",
    "del target_test\n",
    "del features_train\n",
    "del target_train\n",
    "del features_train_ohe\n",
    "del target_train_ohe\n",
    "del features_train_valid_ohe\n",
    "del target_train_valid_ohe\n",
    "del features_test_ohe\n",
    "del target_test_ohe\n",
    "#del model_lr\n",
    "#del list_model_lr\n",
    "#del pred\n",
    "#del model_catboost\n",
    "#del depth\n",
    "#del error\n",
    "del list_oper"
   ]
  },
  {
   "cell_type": "markdown",
   "metadata": {},
   "source": [
    "Теперь посмотрим на LightGBM:  \n",
    "Сначала cv:"
   ]
  },
  {
   "cell_type": "code",
   "execution_count": 111,
   "metadata": {
    "scrolled": true
   },
   "outputs": [
    {
     "data": {
      "text/plain": [
       "GridSearchCV(cv=5, error_score='raise-deprecating',\n",
       "             estimator=LGBMRegressor(boosting_type='gbdt', class_weight=None,\n",
       "                                     colsample_bytree=1.0,\n",
       "                                     importance_type='split', learning_rate=0.1,\n",
       "                                     max_depth=-1, min_child_samples=20,\n",
       "                                     min_child_weight=0.001, min_split_gain=0.0,\n",
       "                                     n_estimators=100, n_jobs=-1, num_leaves=31,\n",
       "                                     objective=None, random_state=None,\n",
       "                                     reg_alpha=0.0, reg_lambda=0.0, silent=True,\n",
       "                                     subsample=1.0, subsample_for_bin=200000,\n",
       "                                     subsample_freq=0),\n",
       "             iid='warn', n_jobs=None,\n",
       "             param_grid={'learning_rate': [0.1, 0.3, 0.5],\n",
       "                         'n_estimators': [50, 100, 150]},\n",
       "             pre_dispatch='2*n_jobs', refit=True, return_train_score=False,\n",
       "             scoring=make_scorer(mean_squared_error, greater_is_better=False),\n",
       "             verbose=0)"
      ]
     },
     "execution_count": 111,
     "metadata": {},
     "output_type": "execute_result"
    }
   ],
   "source": [
    "param_grid_lgbmr = {'learning_rate':[0.1, 0.3, 0.5], 'n_estimators':[50, 100, 150]}\n",
    "gs_lgbmr = GridSearchCV(LGBMRegressor(), param_grid=param_grid_lgbmr, scoring=mean_squared_error_gs, cv=5)\n",
    "gs_lgbmr.fit(features_train_oe, target_train_oe)\n",
    "# gs_lgbmr.fit(features_train_oe, target_train_oe, categorical_feature=list_columns_cat)\n",
    "# gs_lgbmr.fit(features_train_oe, target_train_oe, feature_name=list(features_train_oe.columns), categorical_feature=list_columns_cat)"
   ]
  },
  {
   "cell_type": "code",
   "execution_count": 112,
   "metadata": {},
   "outputs": [
    {
     "name": "stdout",
     "output_type": "stream",
     "text": [
      "Лучшие параметры = {'learning_rate': 0.3, 'n_estimators': 150}\n",
      "Качество модели на кросс валидации = 1602.5\n"
     ]
    }
   ],
   "source": [
    "best_lgbmr = gs_lgbmr.best_params_\n",
    "score_lgbmr = (np.abs(gs_lgbmr.best_score_)) ** 0.5\n",
    "print(f'Лучшие параметры = {best_lgbmr}')\n",
    "print('Качество модели на кросс валидации = {:.5}'.format(score_lgbmr))"
   ]
  },
  {
   "cell_type": "code",
   "execution_count": 113,
   "metadata": {
    "scrolled": false
   },
   "outputs": [
    {
     "data": {
      "text/plain": [
       "{'mean_fit_time': array([61.87025084, 59.04071646, 25.15610175,  3.47432232, 22.8969655 ,\n",
       "         8.11434364,  3.39432125,  5.69775362,  7.89526591]),\n",
       " 'std_fit_time': array([10.60539301, 42.50420817, 30.07438058,  0.0952581 , 23.24977389,\n",
       "         0.5055622 ,  0.16486333,  0.29402937,  0.38234993]),\n",
       " 'mean_score_time': array([0.30349317, 0.55803084, 0.76449437, 0.24332585, 0.38365779,\n",
       "        0.58568034, 0.22060795, 0.34228172, 0.50487962]),\n",
       " 'std_score_time': array([0.00375676, 0.039404  , 0.0435518 , 0.04220567, 0.03683986,\n",
       "        0.0355955 , 0.03638948, 0.04274379, 0.00380749]),\n",
       " 'param_learning_rate': masked_array(data=[0.1, 0.1, 0.1, 0.3, 0.3, 0.3, 0.5, 0.5, 0.5],\n",
       "              mask=[False, False, False, False, False, False, False, False,\n",
       "                    False],\n",
       "        fill_value='?',\n",
       "             dtype=object),\n",
       " 'param_n_estimators': masked_array(data=[50, 100, 150, 50, 100, 150, 50, 100, 150],\n",
       "              mask=[False, False, False, False, False, False, False, False,\n",
       "                    False],\n",
       "        fill_value='?',\n",
       "             dtype=object),\n",
       " 'params': [{'learning_rate': 0.1, 'n_estimators': 50},\n",
       "  {'learning_rate': 0.1, 'n_estimators': 100},\n",
       "  {'learning_rate': 0.1, 'n_estimators': 150},\n",
       "  {'learning_rate': 0.3, 'n_estimators': 50},\n",
       "  {'learning_rate': 0.3, 'n_estimators': 100},\n",
       "  {'learning_rate': 0.3, 'n_estimators': 150},\n",
       "  {'learning_rate': 0.5, 'n_estimators': 50},\n",
       "  {'learning_rate': 0.5, 'n_estimators': 100},\n",
       "  {'learning_rate': 0.5, 'n_estimators': 150}],\n",
       " 'split0_test_score': array([-3067426.24997631, -2780270.47315707, -2671672.45003715,\n",
       "        -2742434.43950823, -2579177.03696162, -2524661.13687608,\n",
       "        -2699433.05084513, -2591980.11453689, -2545861.36031921]),\n",
       " 'split1_test_score': array([-3097754.04599688, -2821681.00404965, -2720777.00103182,\n",
       "        -2813787.07934167, -2673452.87688087, -2583103.63346316,\n",
       "        -2761568.99186122, -2627943.12828329, -2598567.50072544]),\n",
       " 'split2_test_score': array([-3152955.65981855, -2870325.68316669, -2758639.34198598,\n",
       "        -2824706.37991661, -2679397.03033021, -2605700.27903088,\n",
       "        -2800772.46902145, -2689863.17272786, -2650016.18285726]),\n",
       " 'split3_test_score': array([-3087967.27538419, -2809605.96799679, -2699513.02098751,\n",
       "        -2768253.15911378, -2617553.66467077, -2547362.8798708 ,\n",
       "        -2726872.94429185, -2604424.54380678, -2557037.2602196 ]),\n",
       " 'split4_test_score': array([-3132809.44581854, -2842871.11266605, -2731503.86317662,\n",
       "        -2780868.57897196, -2640431.04580825, -2578769.74713971,\n",
       "        -2775153.41807632, -2648211.50257483, -2581650.7501899 ]),\n",
       " 'mean_test_score': array([-3107782.51203329, -2824950.83666093, -2716421.14362764,\n",
       "        -2786010.03003049, -2638002.41171991, -2567919.57879341,\n",
       "        -2752760.19048393, -2632484.54767869, -2586626.76582988]),\n",
       " 'std_test_score': array([30947.77024109, 30405.70223277, 29384.33455823, 30031.90906683,\n",
       "        37026.41252732, 28529.1360748 , 35772.04203923, 34607.14271492,\n",
       "        36668.67137429]),\n",
       " 'rank_test_score': array([9, 8, 5, 7, 4, 1, 6, 3, 2], dtype=int32)}"
      ]
     },
     "execution_count": 113,
     "metadata": {},
     "output_type": "execute_result"
    }
   ],
   "source": [
    "gs_lgbmr.cv_results_ "
   ]
  },
  {
   "cell_type": "markdown",
   "metadata": {},
   "source": [
    "Теперь посмотрим на различные варианты параметров:"
   ]
  },
  {
   "cell_type": "code",
   "execution_count": 115,
   "metadata": {},
   "outputs": [],
   "source": [
    "learning_rate = 0.5\n",
    "n_estimators = 50"
   ]
  },
  {
   "cell_type": "code",
   "execution_count": 116,
   "metadata": {},
   "outputs": [
    {
     "name": "stdout",
     "output_type": "stream",
     "text": [
      "CPU times: user 3.75 s, sys: 8 ms, total: 3.76 s\n",
      "Wall time: 3.77 s\n"
     ]
    },
    {
     "data": {
      "text/plain": [
       "LGBMRegressor(boosting_type='gbdt', class_weight=None, colsample_bytree=1.0,\n",
       "              importance_type='split', learning_rate=0.5, max_depth=-1,\n",
       "              metric='rmse', min_child_samples=20, min_child_weight=0.001,\n",
       "              min_split_gain=0.0, n_estimators=50, n_jobs=-1, num_leaves=31,\n",
       "              objective=None, random_state=12345, reg_alpha=0.0, reg_lambda=0.0,\n",
       "              silent=True, subsample=1.0, subsample_for_bin=200000,\n",
       "              subsample_freq=0)"
      ]
     },
     "execution_count": 116,
     "metadata": {},
     "output_type": "execute_result"
    }
   ],
   "source": [
    "%%time\n",
    "model_lgbmr = LGBMRegressor(\n",
    "    learning_rate=learning_rate,\n",
    "    n_estimators=n_estimators,\n",
    "    metric='rmse',\n",
    "    random_state=12345\n",
    ")\n",
    "model_lgbmr.fit(features_train_oe, target_train_oe, eval_metric='rmse')\n",
    "# model_lgbmr.fit(features_train_oe, target_train_oe, eval_metric='rmse',feature_name=list(features_train_oe.columns), categorical_feature=list_columns_cat)"
   ]
  },
  {
   "cell_type": "code",
   "execution_count": 117,
   "metadata": {},
   "outputs": [
    {
     "name": "stdout",
     "output_type": "stream",
     "text": [
      "RMSE с шагом 0.5 и количеством деревьев 50 = 1637.0\n",
      "CPU times: user 257 ms, sys: 0 ns, total: 257 ms\n",
      "Wall time: 290 ms\n"
     ]
    }
   ],
   "source": [
    "%%time\n",
    "pred = model_lgbmr.predict(features_test_oe)\n",
    "print(f'RMSE с шагом {learning_rate} и количеством деревьев {n_estimators} = {np.round(mean_squared_error(target_test_oe, pred) ** 0.5)}')"
   ]
  },
  {
   "cell_type": "code",
   "execution_count": 118,
   "metadata": {},
   "outputs": [],
   "source": [
    "learning_rate = 0.3\n",
    "n_estimators = 100"
   ]
  },
  {
   "cell_type": "code",
   "execution_count": 119,
   "metadata": {},
   "outputs": [
    {
     "name": "stdout",
     "output_type": "stream",
     "text": [
      "CPU times: user 7.2 s, sys: 20.3 ms, total: 7.22 s\n",
      "Wall time: 7.38 s\n"
     ]
    },
    {
     "data": {
      "text/plain": [
       "LGBMRegressor(boosting_type='gbdt', class_weight=None, colsample_bytree=1.0,\n",
       "              importance_type='split', learning_rate=0.3, max_depth=-1,\n",
       "              metric='rmse', min_child_samples=20, min_child_weight=0.001,\n",
       "              min_split_gain=0.0, n_estimators=100, n_jobs=-1, num_leaves=31,\n",
       "              objective=None, random_state=12345, reg_alpha=0.0, reg_lambda=0.0,\n",
       "              silent=True, subsample=1.0, subsample_for_bin=200000,\n",
       "              subsample_freq=0)"
      ]
     },
     "execution_count": 119,
     "metadata": {},
     "output_type": "execute_result"
    }
   ],
   "source": [
    "%%time\n",
    "model_lgbmr = LGBMRegressor(\n",
    "    learning_rate=learning_rate,\n",
    "    n_estimators=n_estimators,\n",
    "    metric='rmse',\n",
    "    random_state=12345\n",
    ")\n",
    "model_lgbmr.fit(features_train_oe, target_train_oe, eval_metric='rmse')  #,feature_name=list(features_train_oe.columns), categorical_feature=list_columns_cat)"
   ]
  },
  {
   "cell_type": "code",
   "execution_count": 120,
   "metadata": {},
   "outputs": [
    {
     "name": "stdout",
     "output_type": "stream",
     "text": [
      "RMSE с шагом 0.3 и количеством деревьев 100 = 1598.0\n",
      "CPU times: user 445 ms, sys: 3.9 ms, total: 449 ms\n",
      "Wall time: 402 ms\n"
     ]
    }
   ],
   "source": [
    "%%time\n",
    "pred = model_lgbmr.predict(features_test_oe)\n",
    "print(f'RMSE с шагом {learning_rate} и количеством деревьев {n_estimators} = {np.round(mean_squared_error(target_test_oe, pred) ** 0.5)}')"
   ]
  },
  {
   "cell_type": "code",
   "execution_count": 121,
   "metadata": {},
   "outputs": [],
   "source": [
    "learning_rate = 0.1\n",
    "n_estimators = 150"
   ]
  },
  {
   "cell_type": "code",
   "execution_count": 122,
   "metadata": {},
   "outputs": [
    {
     "name": "stdout",
     "output_type": "stream",
     "text": [
      "CPU times: user 25.6 s, sys: 127 ms, total: 25.8 s\n",
      "Wall time: 26.4 s\n"
     ]
    },
    {
     "data": {
      "text/plain": [
       "LGBMRegressor(boosting_type='gbdt', class_weight=None, colsample_bytree=1.0,\n",
       "              importance_type='split', learning_rate=0.1, max_depth=-1,\n",
       "              metric='rmse', min_child_samples=20, min_child_weight=0.001,\n",
       "              min_split_gain=0.0, n_estimators=150, n_jobs=-1, num_leaves=31,\n",
       "              objective=None, random_state=12345, reg_alpha=0.0, reg_lambda=0.0,\n",
       "              silent=True, subsample=1.0, subsample_for_bin=200000,\n",
       "              subsample_freq=0)"
      ]
     },
     "execution_count": 122,
     "metadata": {},
     "output_type": "execute_result"
    }
   ],
   "source": [
    "%%time\n",
    "model_lgbmr = LGBMRegressor(\n",
    "    learning_rate=learning_rate,\n",
    "    n_estimators=n_estimators,\n",
    "    metric='rmse',\n",
    "    random_state=12345\n",
    ")\n",
    "model_lgbmr.fit(features_train_oe, target_train_oe, eval_metric='rmse')  #,feature_name=list(features_train_oe.columns), categorical_feature=list_columns_cat)"
   ]
  },
  {
   "cell_type": "code",
   "execution_count": 123,
   "metadata": {},
   "outputs": [
    {
     "name": "stdout",
     "output_type": "stream",
     "text": [
      "RMSE с шагом 0.1 и количеством деревьев 150 = 1623.0\n",
      "CPU times: user 985 ms, sys: 7.55 ms, total: 992 ms\n",
      "Wall time: 996 ms\n"
     ]
    }
   ],
   "source": [
    "%%time\n",
    "pred = model_lgbmr.predict(features_test_oe)\n",
    "print(f'RMSE с шагом {learning_rate} и количеством деревьев {n_estimators} = {np.round(mean_squared_error(target_test_oe, pred) ** 0.5)}')"
   ]
  },
  {
   "cell_type": "code",
   "execution_count": 124,
   "metadata": {},
   "outputs": [],
   "source": [
    "learning_rate = 0.1\n",
    "n_estimators = 200"
   ]
  },
  {
   "cell_type": "code",
   "execution_count": 125,
   "metadata": {},
   "outputs": [
    {
     "name": "stdout",
     "output_type": "stream",
     "text": [
      "CPU times: user 36.2 s, sys: 138 ms, total: 36.3 s\n",
      "Wall time: 36.7 s\n"
     ]
    },
    {
     "data": {
      "text/plain": [
       "LGBMRegressor(boosting_type='gbdt', class_weight=None, colsample_bytree=1.0,\n",
       "              importance_type='split', learning_rate=0.1, max_depth=-1,\n",
       "              metric='rmse', min_child_samples=20, min_child_weight=0.001,\n",
       "              min_split_gain=0.0, n_estimators=200, n_jobs=-1, num_leaves=31,\n",
       "              objective=None, random_state=12345, reg_alpha=0.0, reg_lambda=0.0,\n",
       "              silent=True, subsample=1.0, subsample_for_bin=200000,\n",
       "              subsample_freq=0)"
      ]
     },
     "execution_count": 125,
     "metadata": {},
     "output_type": "execute_result"
    }
   ],
   "source": [
    "%%time\n",
    "model_lgbmr = LGBMRegressor(\n",
    "    learning_rate=learning_rate,\n",
    "    n_estimators=n_estimators,\n",
    "    metric='rmse',\n",
    "    random_state=12345\n",
    ")\n",
    "model_lgbmr.fit(features_train_oe, target_train_oe, eval_metric='rmse')  #,feature_name=list(features_train_oe.columns), categorical_feature=list_columns_cat)"
   ]
  },
  {
   "cell_type": "code",
   "execution_count": 126,
   "metadata": {},
   "outputs": [
    {
     "name": "stdout",
     "output_type": "stream",
     "text": [
      "RMSE с шагом 0.1 и количеством деревьев 200 = 1602.0\n",
      "CPU times: user 1.34 s, sys: 7.66 ms, total: 1.35 s\n",
      "Wall time: 1.32 s\n"
     ]
    }
   ],
   "source": [
    "%%time\n",
    "pred = model_lgbmr.predict(features_test_oe)\n",
    "print(f'RMSE с шагом {learning_rate} и количеством деревьев {n_estimators} = {np.round(mean_squared_error(target_test_oe, pred) ** 0.5)}')"
   ]
  },
  {
   "cell_type": "code",
   "execution_count": 127,
   "metadata": {},
   "outputs": [],
   "source": [
    "learning_rate = 0.3\n",
    "n_estimators = 150"
   ]
  },
  {
   "cell_type": "code",
   "execution_count": 128,
   "metadata": {},
   "outputs": [
    {
     "name": "stdout",
     "output_type": "stream",
     "text": [
      "CPU times: user 31.7 s, sys: 80.8 ms, total: 31.7 s\n",
      "Wall time: 32.3 s\n"
     ]
    },
    {
     "data": {
      "text/plain": [
       "LGBMRegressor(boosting_type='gbdt', class_weight=None, colsample_bytree=1.0,\n",
       "              importance_type='split', learning_rate=0.3, max_depth=-1,\n",
       "              metric='rmse', min_child_samples=20, min_child_weight=0.001,\n",
       "              min_split_gain=0.0, n_estimators=150, n_jobs=-1, num_leaves=31,\n",
       "              objective=None, random_state=12345, reg_alpha=0.0, reg_lambda=0.0,\n",
       "              silent=True, subsample=1.0, subsample_for_bin=200000,\n",
       "              subsample_freq=0)"
      ]
     },
     "execution_count": 128,
     "metadata": {},
     "output_type": "execute_result"
    }
   ],
   "source": [
    "%%time\n",
    "model_lgbmr = LGBMRegressor(\n",
    "    learning_rate=learning_rate,\n",
    "    n_estimators=n_estimators,\n",
    "    metric='rmse',\n",
    "    random_state=12345\n",
    ")\n",
    "model_lgbmr.fit(features_train_oe, target_train_oe, eval_metric='rmse')  #,feature_name=list(features_train_oe.columns), categorical_feature=list_columns_cat)"
   ]
  },
  {
   "cell_type": "code",
   "execution_count": 129,
   "metadata": {},
   "outputs": [
    {
     "name": "stdout",
     "output_type": "stream",
     "text": [
      "RMSE с шагом 0.3 и количеством деревьев 150 = 1578.0\n",
      "CPU times: user 789 ms, sys: 0 ns, total: 789 ms\n",
      "Wall time: 795 ms\n"
     ]
    }
   ],
   "source": [
    "%%time\n",
    "pred = model_lgbmr.predict(features_test_oe)\n",
    "print(f'RMSE с шагом {learning_rate} и количеством деревьев {n_estimators} = {np.round(mean_squared_error(target_test_oe, pred) ** 0.5)}')"
   ]
  },
  {
   "cell_type": "markdown",
   "metadata": {},
   "source": [
    "# 3. Анализ моделей.<a id=\"3_Анализ_моделей.\"></a>"
   ]
  },
  {
   "cell_type": "markdown",
   "metadata": {},
   "source": [
    "- Линейная регрессия:  \n",
    "На валидационной выборке наилучшее качество получилось с параметрами iters = 2 и lerning_rate = 1.5 rmse = 3059.0. Качество на тестовой выборке с этими параметраметрами, соответсвенно тоже наилучшее = 3032.0.  \n",
    "\n",
    "Тестовые результаты:  \n",
    "Время обучения с 2 итерациями с шагом 1 = 1min 3s. Время предсказания = 418 ms. Метрика RMSE = 6216.0.  \n",
    "Время обучения с 3 итерациями с шагом 1 = 1min 40s. Время предсказания = 782 ms. Метрика RMSE = 6214.0.  \n",
    "Время обучения с 20 итерациями с шагом 1 = 7min 50s. Время предсказания =  2.8 s. Метрика RMSE = 6214.0.  \n",
    "Качество на простой линейной регрессии при этом всеравно выше.  \n",
    "\n",
    "\n",
    "- КэтБуст:\n",
    "Наилучшее качество на кросс валидации получилось с глубиной 11 = 2889. Проверка на тестовой выборке подтвердила, что с такой глубиной среди выбранных, получается наилучшее качество.  \n",
    "\n",
    "Время обучения с глубиной дерева 2 = 18.7 s. Время предсказания = 154 ms. Метрика RMSE = 2432.0  \n",
    "Время обучения с глубиной дерева 8 = 48.2 s. Время предсказания = 152 ms. Метрика RMSE = 1855.0  \n",
    "Время обучения с глубиной дерева 11 = 1 min 3 s. Время предсказания = 234 ms. Метрика RMSE = 1770.0  \n",
    "\n",
    "\n",
    "- ЛайтДжиБиЭм:  \n",
    "Наилучшее качество на кросс валидации получилось с параметрками learning_rate = 0.3 и n_estimators = 150 = 1602.5. С такими параметрами на тестовой выборке, получился результат 1578.0, время обучения 32.3 s, время предсказания 795 ms.  \n",
    "\n",
    "Время обучения с шагом 0.5 количеством деревьев 50 = 3.77 s. Время предсказания = 290 ms. Метрика RMSE = 1637.0  \n",
    "Время обучения с шагом 0.3 количеством деревьев 100 = 7.38 s. Время предсказания = 402 ms. Метрика RMSE = 1598.0  \n",
    "Время обучения с шагом 0.1 количеством деревьев 150 = 26.4 s. Время предсказания = 992 ms. Метрика RMSE = 1623.0  \n",
    "Время обучения с шагом 0.1 количеством деревьев 200 = 36.3 s. Время предсказания = 1.32 s. Метрика RMSE = 1602.0 \n",
    "\n",
    "Можно сделать вывод, что У всех моделей значительно отличается время обучения, а также и время предсказаний при изменении гиперпараметров. в Некоторых случаях заметно переобучение моделей, когда РМСЕ увеличивалась при лучших гипперпараметрах. Линейная регрессия дала наихудший результат за очень большое время. Если точность результата не слишком критична, можно значительно сократить время при не слишком сильных различаях РМСЕ.Например - Модель LGBM. При шаге 0.5 и 50 дереьях против 0.3 шага и 100 деревьев,  разница РМСЕ = 39(1637-1598), временя обучения различается почти в 2 раза. Далее шаг 0.1 и 150 деревьев - получили ухудшение метрики, а вот время обучения выросло почти в 5 раз. При шаге 0.1 и 200 деревьях метрика вернулась к лучшему показателю, но время обучения увеличилось уже в 6 раз от первоначального. Следовательно, при не большой потере в метрике, получаем очень быстро обучаемую модель."
   ]
  }
 ],
 "metadata": {
  "kernelspec": {
   "display_name": "Python 3",
   "language": "python",
   "name": "python3"
  },
  "language_info": {
   "codemirror_mode": {
    "name": "ipython",
    "version": 3
   },
   "file_extension": ".py",
   "mimetype": "text/x-python",
   "name": "python",
   "nbconvert_exporter": "python",
   "pygments_lexer": "ipython3",
   "version": "3.8.5"
  }
 },
 "nbformat": 4,
 "nbformat_minor": 2
}
